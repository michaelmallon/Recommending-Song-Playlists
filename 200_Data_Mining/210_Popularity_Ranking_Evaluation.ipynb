{
 "cells": [
  {
   "cell_type": "code",
   "execution_count": 1,
   "metadata": {},
   "outputs": [],
   "source": [
    "import pandas as pd\n",
    "import sqlalchemy as sa\n",
    "from sqlalchemy.dialects.postgresql import JSON, JSONB\n",
    "from sqlalchemy.ext.declarative import declarative_base\n",
    "from sqlalchemy.orm import sessionmaker\n",
    "import json\n",
    "import csv\n",
    "import datetime\n",
    "from dateutil.parser import parser\n",
    "import os\n",
    "from pprint import pprint\n",
    "from pathlib import Path\n",
    "import glob\n",
    "#from odo import odo\n",
    "import importlib\n",
    "import itertools\n",
    "import sklearn.cluster\n",
    "import pandas as pd\n",
    "import numpy as np\n",
    "import math\n",
    "import operator\n",
    "import sklearn\n",
    "import matplotlib.pyplot as plt\n",
    "\n",
    "#importlib.invalidate_caches()\n",
    "%load_ext autoreload\n",
    "%autoreload 2"
   ]
  },
  {
   "cell_type": "code",
   "execution_count": 2,
   "metadata": {},
   "outputs": [],
   "source": [
    "tracks = pd.read_pickle('../Pickle_Files/tracks.pkl')\n",
    "song_popularity = pd.read_pickle('../Pickle_Files/Song_Popularity.pkl')"
   ]
  },
  {
   "cell_type": "code",
   "execution_count": 3,
   "metadata": {},
   "outputs": [],
   "source": [
    "song_popularity = pd.merge(song_popularity,tracks[['track_uri','track_name','artist_name']],on='track_uri')"
   ]
  },
  {
   "cell_type": "code",
   "execution_count": 4,
   "metadata": {},
   "outputs": [],
   "source": [
    "song_popularity_head = song_popularity.head(3000)"
   ]
  },
  {
   "cell_type": "code",
   "execution_count": 5,
   "metadata": {},
   "outputs": [
    {
     "data": {
      "text/html": [
       "<div>\n",
       "<style scoped>\n",
       "    .dataframe tbody tr th:only-of-type {\n",
       "        vertical-align: middle;\n",
       "    }\n",
       "\n",
       "    .dataframe tbody tr th {\n",
       "        vertical-align: top;\n",
       "    }\n",
       "\n",
       "    .dataframe thead th {\n",
       "        text-align: right;\n",
       "    }\n",
       "</style>\n",
       "<table border=\"1\" class=\"dataframe\">\n",
       "  <thead>\n",
       "    <tr style=\"text-align: right;\">\n",
       "      <th></th>\n",
       "      <th>track_uri</th>\n",
       "      <th>num_followers</th>\n",
       "      <th>Popularity_Rating_Normalized</th>\n",
       "      <th>track_name</th>\n",
       "      <th>artist_name</th>\n",
       "    </tr>\n",
       "  </thead>\n",
       "  <tbody>\n",
       "    <tr>\n",
       "      <th>0</th>\n",
       "      <td>spotify:track:7KXjTSCq5nL1LoYtL7XAwS</td>\n",
       "      <td>110286</td>\n",
       "      <td>1.000000</td>\n",
       "      <td>HUMBLE.</td>\n",
       "      <td>Kendrick Lamar</td>\n",
       "    </tr>\n",
       "    <tr>\n",
       "      <th>1</th>\n",
       "      <td>spotify:track:1xznGGDReH1oQq0xzbwXa3</td>\n",
       "      <td>93456</td>\n",
       "      <td>0.988251</td>\n",
       "      <td>One Dance</td>\n",
       "      <td>Drake</td>\n",
       "    </tr>\n",
       "    <tr>\n",
       "      <th>2</th>\n",
       "      <td>spotify:track:7BKLCZ1jbUBVqRi2FVlTVw</td>\n",
       "      <td>89506</td>\n",
       "      <td>0.982251</td>\n",
       "      <td>Closer</td>\n",
       "      <td>The Chainsmokers</td>\n",
       "    </tr>\n",
       "    <tr>\n",
       "      <th>3</th>\n",
       "      <td>spotify:track:7yyRTcZmCiyzzJlNzGC9Ol</td>\n",
       "      <td>83430</td>\n",
       "      <td>0.980005</td>\n",
       "      <td>Broccoli (feat. Lil Yachty)</td>\n",
       "      <td>DRAM</td>\n",
       "    </tr>\n",
       "    <tr>\n",
       "      <th>4</th>\n",
       "      <td>spotify:track:3a1lNhkSLSkpJE4MSHpDu9</td>\n",
       "      <td>87291</td>\n",
       "      <td>0.979210</td>\n",
       "      <td>Congratulations</td>\n",
       "      <td>Post Malone</td>\n",
       "    </tr>\n",
       "  </tbody>\n",
       "</table>\n",
       "</div>"
      ],
      "text/plain": [
       "                              track_uri  num_followers  \\\n",
       "0  spotify:track:7KXjTSCq5nL1LoYtL7XAwS         110286   \n",
       "1  spotify:track:1xznGGDReH1oQq0xzbwXa3          93456   \n",
       "2  spotify:track:7BKLCZ1jbUBVqRi2FVlTVw          89506   \n",
       "3  spotify:track:7yyRTcZmCiyzzJlNzGC9Ol          83430   \n",
       "4  spotify:track:3a1lNhkSLSkpJE4MSHpDu9          87291   \n",
       "\n",
       "   Popularity_Rating_Normalized                   track_name       artist_name  \n",
       "0                      1.000000                      HUMBLE.    Kendrick Lamar  \n",
       "1                      0.988251                    One Dance             Drake  \n",
       "2                      0.982251                       Closer  The Chainsmokers  \n",
       "3                      0.980005  Broccoli (feat. Lil Yachty)              DRAM  \n",
       "4                      0.979210              Congratulations       Post Malone  "
      ]
     },
     "execution_count": 5,
     "metadata": {},
     "output_type": "execute_result"
    }
   ],
   "source": [
    "song_popularity_head.head()"
   ]
  },
  {
   "cell_type": "code",
   "execution_count": 6,
   "metadata": {},
   "outputs": [],
   "source": [
    "song_popularity_head = song_popularity_head.reset_index()"
   ]
  },
  {
   "cell_type": "code",
   "execution_count": 7,
   "metadata": {},
   "outputs": [],
   "source": [
    "song_popularity_head.rename(columns={'index':'Popularity_Rank'}, inplace=True)"
   ]
  },
  {
   "cell_type": "code",
   "execution_count": 8,
   "metadata": {},
   "outputs": [],
   "source": [
    "song_popularity_head['track_name'] = song_popularity_head['track_name'].str.lower()"
   ]
  },
  {
   "cell_type": "code",
   "execution_count": 9,
   "metadata": {
    "scrolled": true
   },
   "outputs": [
    {
     "data": {
      "text/html": [
       "<div>\n",
       "<style scoped>\n",
       "    .dataframe tbody tr th:only-of-type {\n",
       "        vertical-align: middle;\n",
       "    }\n",
       "\n",
       "    .dataframe tbody tr th {\n",
       "        vertical-align: top;\n",
       "    }\n",
       "\n",
       "    .dataframe thead th {\n",
       "        text-align: right;\n",
       "    }\n",
       "</style>\n",
       "<table border=\"1\" class=\"dataframe\">\n",
       "  <thead>\n",
       "    <tr style=\"text-align: right;\">\n",
       "      <th></th>\n",
       "      <th>Popularity_Rank</th>\n",
       "      <th>track_uri</th>\n",
       "      <th>num_followers</th>\n",
       "      <th>Popularity_Rating_Normalized</th>\n",
       "      <th>track_name</th>\n",
       "      <th>artist_name</th>\n",
       "    </tr>\n",
       "  </thead>\n",
       "  <tbody>\n",
       "    <tr>\n",
       "      <th>0</th>\n",
       "      <td>0</td>\n",
       "      <td>spotify:track:7KXjTSCq5nL1LoYtL7XAwS</td>\n",
       "      <td>110286</td>\n",
       "      <td>1.000000</td>\n",
       "      <td>humble.</td>\n",
       "      <td>Kendrick Lamar</td>\n",
       "    </tr>\n",
       "    <tr>\n",
       "      <th>1</th>\n",
       "      <td>1</td>\n",
       "      <td>spotify:track:1xznGGDReH1oQq0xzbwXa3</td>\n",
       "      <td>93456</td>\n",
       "      <td>0.988251</td>\n",
       "      <td>one dance</td>\n",
       "      <td>Drake</td>\n",
       "    </tr>\n",
       "    <tr>\n",
       "      <th>2</th>\n",
       "      <td>2</td>\n",
       "      <td>spotify:track:7BKLCZ1jbUBVqRi2FVlTVw</td>\n",
       "      <td>89506</td>\n",
       "      <td>0.982251</td>\n",
       "      <td>closer</td>\n",
       "      <td>The Chainsmokers</td>\n",
       "    </tr>\n",
       "    <tr>\n",
       "      <th>3</th>\n",
       "      <td>3</td>\n",
       "      <td>spotify:track:7yyRTcZmCiyzzJlNzGC9Ol</td>\n",
       "      <td>83430</td>\n",
       "      <td>0.980005</td>\n",
       "      <td>broccoli (feat. lil yachty)</td>\n",
       "      <td>DRAM</td>\n",
       "    </tr>\n",
       "    <tr>\n",
       "      <th>4</th>\n",
       "      <td>4</td>\n",
       "      <td>spotify:track:3a1lNhkSLSkpJE4MSHpDu9</td>\n",
       "      <td>87291</td>\n",
       "      <td>0.979210</td>\n",
       "      <td>congratulations</td>\n",
       "      <td>Post Malone</td>\n",
       "    </tr>\n",
       "  </tbody>\n",
       "</table>\n",
       "</div>"
      ],
      "text/plain": [
       "   Popularity_Rank                             track_uri  num_followers  \\\n",
       "0                0  spotify:track:7KXjTSCq5nL1LoYtL7XAwS         110286   \n",
       "1                1  spotify:track:1xznGGDReH1oQq0xzbwXa3          93456   \n",
       "2                2  spotify:track:7BKLCZ1jbUBVqRi2FVlTVw          89506   \n",
       "3                3  spotify:track:7yyRTcZmCiyzzJlNzGC9Ol          83430   \n",
       "4                4  spotify:track:3a1lNhkSLSkpJE4MSHpDu9          87291   \n",
       "\n",
       "   Popularity_Rating_Normalized                   track_name       artist_name  \n",
       "0                      1.000000                      humble.    Kendrick Lamar  \n",
       "1                      0.988251                    one dance             Drake  \n",
       "2                      0.982251                       closer  The Chainsmokers  \n",
       "3                      0.980005  broccoli (feat. lil yachty)              DRAM  \n",
       "4                      0.979210              congratulations       Post Malone  "
      ]
     },
     "execution_count": 9,
     "metadata": {},
     "output_type": "execute_result"
    }
   ],
   "source": [
    "song_popularity_head.head(5)"
   ]
  },
  {
   "cell_type": "markdown",
   "metadata": {},
   "source": [
    "## Billboard Top 100 US 2017\n",
    "<br> Taken from www.billboard.com"
   ]
  },
  {
   "cell_type": "code",
   "execution_count": 10,
   "metadata": {},
   "outputs": [],
   "source": [
    "billboard = pd.read_csv('../Pickle_Files/BillboardTop100.csv',header=0,delimiter=',')\n",
    "billboard = billboard[['Billboard_Number','track_name']]"
   ]
  },
  {
   "cell_type": "code",
   "execution_count": 11,
   "metadata": {},
   "outputs": [],
   "source": [
    "billboard['track_name'] = billboard['track_name'].str.lower()"
   ]
  },
  {
   "cell_type": "markdown",
   "metadata": {},
   "source": [
    "### Joining Both Dataframes to Compare"
   ]
  },
  {
   "cell_type": "code",
   "execution_count": 12,
   "metadata": {},
   "outputs": [],
   "source": [
    "joined = pd.merge(billboard,song_popularity_head,on='track_name')"
   ]
  },
  {
   "cell_type": "markdown",
   "metadata": {},
   "source": [
    "#### Dropping tracks with duplicate names"
   ]
  },
  {
   "cell_type": "code",
   "execution_count": 13,
   "metadata": {},
   "outputs": [],
   "source": [
    "joined  = joined.drop([5,20,24,27,39,45,48,57,68,81,85,86])"
   ]
  },
  {
   "cell_type": "code",
   "execution_count": 14,
   "metadata": {},
   "outputs": [],
   "source": [
    "display = joined[['Billboard_Number','Popularity_Rank','track_name']]\n",
    "display = display.set_index('track_name')"
   ]
  },
  {
   "cell_type": "markdown",
   "metadata": {},
   "source": [
    "# My Popularity Ranking vs Billboard Top 100 2017\n",
    "<br>-  As we can see my popularity ranking is good.\n",
    "<br>-  Many songs are very similar to that of their real ranking.\n",
    "<br>-  The lowest ranking song contained in the top 100 for me is 2172.\n",
    "<br>-  The reason these rankings are not even more accurate then they are is because songs realised before 2017 are also in my dataset, these songs are not included in the Billboard Charts. EX: R-Kellys' Song ( Ignition - Remix ) is 19th in my popularity ranking but was realsed in 2003!"
   ]
  },
  {
   "cell_type": "code",
   "execution_count": 15,
   "metadata": {
    "scrolled": true
   },
   "outputs": [
    {
     "name": "stdout",
     "output_type": "stream",
     "text": [
      "                                            Billboard_Number  Popularity_Rank\n",
      "track_name                                                                   \n",
      "shape of you                                               1               13\n",
      "despacito - remix                                          2               17\n",
      "that's what i like                                         3                9\n",
      "something just like this                                   4              103\n",
      "unforgettable                                              5               47\n",
      "believer                                                   6               91\n",
      "congratulations                                            7                4\n",
      "humble.                                                    8                0\n",
      "attention                                                  9              486\n",
      "say you won't let go                                      10               63\n",
      "there's nothing holdin' me back                           11              384\n",
      "castle on the hill                                        12              332\n",
      "it ain't me (with selena gomez)                           13               76\n",
      "thunder                                                   14              181\n",
      "i'm the one                                               15               16\n",
      "body like a back road                                     16              113\n",
      "wild thoughts                                             17              118\n",
      "bad and boujee (feat. lil uzi vert)                       18                5\n",
      "closer                                                    19                2\n",
      "mask off                                                  21               15\n",
      "xo tour llif3                                             22                6\n",
      "stay                                                      23              333\n",
      "issues                                                    24              110\n",
      "rockstar                                                  25               30\n",
      "i feel it coming                                          26              188\n",
      "24k magic                                                 27               42\n",
      "bodak yellow                                              28              175\n",
      "havana                                                    29              764\n",
      "slow hands                                                30              234\n",
      "rockabye (feat. sean paul & anne-marie)                   31              627\n",
      "1-800-273-8255                                            32               51\n",
      "location                                                  33               12\n",
      "strip that down                                           34              195\n",
      "redbone                                                   35               31\n",
      "paris                                                     36              261\n",
      "ispy (feat. lil yachty)                                   37               10\n",
      "feel it still                                             38               89\n",
      "starboy                                                   39               25\n",
      "what about us                                             40             2172\n",
      "sorry not sorry                                           41              496\n",
      "swalla (feat. nicki minaj & ty dolla $ign)                42              616\n",
      "feels                                                     43              296\n",
      "chained to the rhythm                                     45             1800\n",
      "new rules                                                 46              699\n",
      "look what you made me do                                  47              763\n",
      "scars to your beautiful                                   48              596\n",
      "too good at goodbyes                                      49             1044\n",
      "love on the brain                                         50              206\n",
      "bank account                                              51               72\n",
      "perfect                                                   52              695\n",
      "passionfruit                                              53               74\n",
      "slide                                                     54               46\n",
      "slide                                                     54             1325\n",
      "don't wanna know (feat. kendrick lamar)                   55              464\n",
      "fake love                                                 56               20\n",
      "bounce back                                               57                7\n",
      "what lovers do (feat. sza)                                58             1332\n",
      "sign of the times                                         59              207\n",
      "black beatles                                             60               23\n",
      "human                                                     61             1372\n",
      "mi gente                                                  62              429\n",
      "mi gente                                                  73              429\n",
      "young dumb & broke                                        63               54\n",
      "dusk till dawn - radio edit                               64             2310\n",
      "silence                                                   65              328\n",
      "rake it up                                                66              339\n",
      "galway girl                                               67              874\n",
      "praying                                                   68              672\n",
      "t-shirt                                                   70               58\n",
      "t-shirt                                                   70              666\n",
      "2u (feat. justin bieber)                                  71              630\n",
      "bad things (with camila cabello)                          72              451\n",
      "mercy                                                     74              610\n",
      "call on me - ryan riback extended remix                   75              444\n",
      "let me love you                                           76               79\n",
      "in case you didn't know                                   77             1197\n",
      "malibu                                                    78              357\n",
      "tunnel vision                                             79               61\n",
      "no promises (feat. demi lovato)                           80              828\n",
      "loyalty. feat. rihanna.                                   81              237\n",
      "now or never                                              82              308\n",
      "rolex                                                     83              210\n",
      "dna.                                                      84               44\n",
      "swang                                                     85               65\n",
      "goosebumps                                                86               18\n",
      "gucci gang                                                87              592\n",
      "side to side                                              88              254\n",
      "symphony (feat. zara larsson)                             89             1380\n",
      "glorious (feat. skylar grey)                              90              932\n",
      "heathens                                                  91               88\n",
      "friends (with bloodpop®)                                  93              993\n",
      "mama                                                      94             2170\n",
      "i get the bag (feat. migos)                               95              558\n",
      "what ifs                                                  96             1844\n",
      "love. feat. zacari.                                       97              178\n",
      "butterfly effect                                          98              119\n",
      "water under the bridge                                    99             1711\n",
      "scared to be lonely                                      100              710\n"
     ]
    }
   ],
   "source": [
    "with pd.option_context('display.max_rows', None, 'display.max_columns', None):\n",
    "    print(display)"
   ]
  }
 ],
 "metadata": {
  "kernelspec": {
   "display_name": "Python 3",
   "language": "python",
   "name": "python3"
  },
  "language_info": {
   "codemirror_mode": {
    "name": "ipython",
    "version": 3
   },
   "file_extension": ".py",
   "mimetype": "text/x-python",
   "name": "python",
   "nbconvert_exporter": "python",
   "pygments_lexer": "ipython3",
   "version": "3.7.2"
  }
 },
 "nbformat": 4,
 "nbformat_minor": 2
}
