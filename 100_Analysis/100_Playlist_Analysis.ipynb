{
 "cells": [
  {
   "cell_type": "code",
   "execution_count": 1,
   "metadata": {},
   "outputs": [],
   "source": [
    "import pandas as pd\n",
    "import sklearn.cluster\n",
    "import pandas as pd\n",
    "import numpy as np\n",
    "import math\n",
    "import operator\n",
    "import sklearn\n",
    "import matplotlib.pyplot as plt\n",
    "from matplotlib.lines import Line2D\n",
    "\n",
    "#importlib.invalidate_caches()\n",
    "%load_ext autoreload\n",
    "%autoreload 2"
   ]
  },
  {
   "cell_type": "code",
   "execution_count": 2,
   "metadata": {},
   "outputs": [],
   "source": [
    "playlists = pd.read_pickle('../Pickle_Files/playlists.pkl')"
   ]
  },
  {
   "cell_type": "code",
   "execution_count": 3,
   "metadata": {},
   "outputs": [
    {
     "data": {
      "text/html": [
       "<div>\n",
       "<style scoped>\n",
       "    .dataframe tbody tr th:only-of-type {\n",
       "        vertical-align: middle;\n",
       "    }\n",
       "\n",
       "    .dataframe tbody tr th {\n",
       "        vertical-align: top;\n",
       "    }\n",
       "\n",
       "    .dataframe thead th {\n",
       "        text-align: right;\n",
       "    }\n",
       "</style>\n",
       "<table border=\"1\" class=\"dataframe\">\n",
       "  <thead>\n",
       "    <tr style=\"text-align: right;\">\n",
       "      <th></th>\n",
       "      <th>collaborative</th>\n",
       "      <th>description</th>\n",
       "      <th>duration_ms</th>\n",
       "      <th>modified_at</th>\n",
       "      <th>name</th>\n",
       "      <th>num_albums</th>\n",
       "      <th>num_artists</th>\n",
       "      <th>num_edits</th>\n",
       "      <th>num_followers</th>\n",
       "      <th>num_tracks</th>\n",
       "      <th>pid</th>\n",
       "    </tr>\n",
       "  </thead>\n",
       "  <tbody>\n",
       "    <tr>\n",
       "      <th>0</th>\n",
       "      <td>false</td>\n",
       "      <td>None</td>\n",
       "      <td>12395868</td>\n",
       "      <td>1508457600</td>\n",
       "      <td>country songs</td>\n",
       "      <td>41</td>\n",
       "      <td>33</td>\n",
       "      <td>29</td>\n",
       "      <td>1</td>\n",
       "      <td>58</td>\n",
       "      <td>315000</td>\n",
       "    </tr>\n",
       "    <tr>\n",
       "      <th>1</th>\n",
       "      <td>false</td>\n",
       "      <td>None</td>\n",
       "      <td>36317989</td>\n",
       "      <td>1505174400</td>\n",
       "      <td>Weekend</td>\n",
       "      <td>113</td>\n",
       "      <td>88</td>\n",
       "      <td>16</td>\n",
       "      <td>3</td>\n",
       "      <td>156</td>\n",
       "      <td>315001</td>\n",
       "    </tr>\n",
       "    <tr>\n",
       "      <th>2</th>\n",
       "      <td>false</td>\n",
       "      <td>None</td>\n",
       "      <td>31494581</td>\n",
       "      <td>1491436800</td>\n",
       "      <td>get turnt</td>\n",
       "      <td>120</td>\n",
       "      <td>92</td>\n",
       "      <td>25</td>\n",
       "      <td>3</td>\n",
       "      <td>140</td>\n",
       "      <td>315002</td>\n",
       "    </tr>\n",
       "    <tr>\n",
       "      <th>3</th>\n",
       "      <td>false</td>\n",
       "      <td>None</td>\n",
       "      <td>31114725</td>\n",
       "      <td>1506297600</td>\n",
       "      <td>Praise and Worship</td>\n",
       "      <td>15</td>\n",
       "      <td>8</td>\n",
       "      <td>9</td>\n",
       "      <td>1</td>\n",
       "      <td>215</td>\n",
       "      <td>315003</td>\n",
       "    </tr>\n",
       "    <tr>\n",
       "      <th>4</th>\n",
       "      <td>false</td>\n",
       "      <td>None</td>\n",
       "      <td>6724683</td>\n",
       "      <td>1504051200</td>\n",
       "      <td>arizona</td>\n",
       "      <td>31</td>\n",
       "      <td>30</td>\n",
       "      <td>25</td>\n",
       "      <td>1</td>\n",
       "      <td>31</td>\n",
       "      <td>315004</td>\n",
       "    </tr>\n",
       "  </tbody>\n",
       "</table>\n",
       "</div>"
      ],
      "text/plain": [
       "  collaborative description  duration_ms  modified_at                name  \\\n",
       "0         false        None     12395868   1508457600       country songs   \n",
       "1         false        None     36317989   1505174400             Weekend   \n",
       "2         false        None     31494581   1491436800           get turnt   \n",
       "3         false        None     31114725   1506297600  Praise and Worship   \n",
       "4         false        None      6724683   1504051200             arizona   \n",
       "\n",
       "   num_albums  num_artists  num_edits  num_followers  num_tracks     pid  \n",
       "0          41           33         29              1          58  315000  \n",
       "1         113           88         16              3         156  315001  \n",
       "2         120           92         25              3         140  315002  \n",
       "3          15            8          9              1         215  315003  \n",
       "4          31           30         25              1          31  315004  "
      ]
     },
     "execution_count": 3,
     "metadata": {},
     "output_type": "execute_result"
    }
   ],
   "source": [
    "playlists.head()"
   ]
  },
  {
   "cell_type": "code",
   "execution_count": 4,
   "metadata": {},
   "outputs": [],
   "source": [
    "playlists['seconds'] = playlists['duration_ms']/1000\n",
    "playlists['hours'] = playlists['seconds']/3600"
   ]
  },
  {
   "cell_type": "markdown",
   "metadata": {},
   "source": [
    "#### Averages"
   ]
  },
  {
   "cell_type": "code",
   "execution_count": 5,
   "metadata": {},
   "outputs": [
    {
     "name": "stdout",
     "output_type": "stream",
     "text": [
      "Average Num_edits: 17.655902\n",
      "Average Num_artists: 38.088211\n",
      "Average Num_followers: 2.597746\n",
      "Average Num_tracks: 66.346428\n",
      "Average playlist_duration/hours: 4.327688011860555\n"
     ]
    }
   ],
   "source": [
    "print('Average Num_edits: ' + str((playlists['num_edits']).mean()))\n",
    "print('Average Num_artists: ' + str((playlists['num_artists']).mean()))\n",
    "print('Average Num_followers: ' + str((playlists['num_followers']).mean()))\n",
    "print('Average Num_tracks: ' + str((playlists['num_tracks']).mean()))\n",
    "print('Average playlist_duration/hours: ' + str((playlists['hours'].mean())))"
   ]
  },
  {
   "cell_type": "markdown",
   "metadata": {},
   "source": [
    "#### Max/Min"
   ]
  },
  {
   "cell_type": "code",
   "execution_count": 6,
   "metadata": {},
   "outputs": [
    {
     "name": "stdout",
     "output_type": "stream",
     "text": [
      "Max Num_edits: 201\n",
      "Max Num_artists: 238\n",
      "Max Num_followers: 71643\n",
      "Max Num_tracks: 376\n",
      "Max playlist_duration/mins: 176.40938666666668\n",
      "\n",
      "\n",
      "Min Num_edits: 1\n",
      "Min Num_artists: 3\n",
      "Min Num_followers: 1\n",
      "Min Num_tracks: 5\n",
      "Min playlist_duration/hours: 0.02709388888888889\n"
     ]
    }
   ],
   "source": [
    "print('Max Num_edits: ' + str((playlists['num_edits']).max()))\n",
    "print('Max Num_artists: ' + str((playlists['num_artists']).max()))\n",
    "print('Max Num_followers: ' + str((playlists['num_followers']).max()))\n",
    "print('Max Num_tracks: ' + str((playlists['num_tracks']).max()))\n",
    "print('Max playlist_duration/mins: ' + str((playlists['hours'].max())))\n",
    "print('\\n')\n",
    "print('Min Num_edits: ' + str((playlists['num_edits']).min()))\n",
    "print('Min Num_artists: ' + str((playlists['num_artists']).min()))\n",
    "print('Min Num_followers: ' + str((playlists['num_followers']).min()))\n",
    "print('Min Num_tracks: ' + str((playlists['num_tracks']).min()))\n",
    "print('Min playlist_duration/hours: ' + str((playlists['hours'].min())))"
   ]
  },
  {
   "cell_type": "markdown",
   "metadata": {},
   "source": [
    "#### Top 10 Playlists"
   ]
  },
  {
   "cell_type": "code",
   "execution_count": 7,
   "metadata": {},
   "outputs": [
    {
     "data": {
      "text/html": [
       "<div>\n",
       "<style scoped>\n",
       "    .dataframe tbody tr th:only-of-type {\n",
       "        vertical-align: middle;\n",
       "    }\n",
       "\n",
       "    .dataframe tbody tr th {\n",
       "        vertical-align: top;\n",
       "    }\n",
       "\n",
       "    .dataframe thead th {\n",
       "        text-align: right;\n",
       "    }\n",
       "</style>\n",
       "<table border=\"1\" class=\"dataframe\">\n",
       "  <thead>\n",
       "    <tr style=\"text-align: right;\">\n",
       "      <th></th>\n",
       "      <th>collaborative</th>\n",
       "      <th>description</th>\n",
       "      <th>duration_ms</th>\n",
       "      <th>modified_at</th>\n",
       "      <th>name</th>\n",
       "      <th>num_albums</th>\n",
       "      <th>num_artists</th>\n",
       "      <th>num_edits</th>\n",
       "      <th>num_followers</th>\n",
       "      <th>num_tracks</th>\n",
       "      <th>pid</th>\n",
       "      <th>seconds</th>\n",
       "      <th>hours</th>\n",
       "    </tr>\n",
       "  </thead>\n",
       "  <tbody>\n",
       "    <tr>\n",
       "      <th>449269</th>\n",
       "      <td>false</td>\n",
       "      <td>None</td>\n",
       "      <td>10567634</td>\n",
       "      <td>1491523200</td>\n",
       "      <td>That's What I Like</td>\n",
       "      <td>37</td>\n",
       "      <td>31</td>\n",
       "      <td>7</td>\n",
       "      <td>71643</td>\n",
       "      <td>39</td>\n",
       "      <td>248269</td>\n",
       "      <td>10567.634</td>\n",
       "      <td>2.935454</td>\n",
       "    </tr>\n",
       "    <tr>\n",
       "      <th>484359</th>\n",
       "      <td>false</td>\n",
       "      <td>Every song ever featured on Breaking Bad!</td>\n",
       "      <td>23561532</td>\n",
       "      <td>1381104000</td>\n",
       "      <td>Breaking Bad</td>\n",
       "      <td>102</td>\n",
       "      <td>101</td>\n",
       "      <td>26</td>\n",
       "      <td>53519</td>\n",
       "      <td>106</td>\n",
       "      <td>746359</td>\n",
       "      <td>23561.532</td>\n",
       "      <td>6.544870</td>\n",
       "    </tr>\n",
       "    <tr>\n",
       "      <th>580472</th>\n",
       "      <td>false</td>\n",
       "      <td>None</td>\n",
       "      <td>27955610</td>\n",
       "      <td>1509062400</td>\n",
       "      <td>One Tree Hill</td>\n",
       "      <td>85</td>\n",
       "      <td>78</td>\n",
       "      <td>8</td>\n",
       "      <td>45942</td>\n",
       "      <td>111</td>\n",
       "      <td>399472</td>\n",
       "      <td>27955.610</td>\n",
       "      <td>7.765447</td>\n",
       "    </tr>\n",
       "    <tr>\n",
       "      <th>113831</th>\n",
       "      <td>false</td>\n",
       "      <td>None</td>\n",
       "      <td>11824924</td>\n",
       "      <td>1478908800</td>\n",
       "      <td>My Little Pony</td>\n",
       "      <td>9</td>\n",
       "      <td>25</td>\n",
       "      <td>6</td>\n",
       "      <td>31539</td>\n",
       "      <td>85</td>\n",
       "      <td>180831</td>\n",
       "      <td>11824.924</td>\n",
       "      <td>3.284701</td>\n",
       "    </tr>\n",
       "    <tr>\n",
       "      <th>343740</th>\n",
       "      <td>false</td>\n",
       "      <td>Jack's &lt;a href=\"http://instagram.com/thatsojac...</td>\n",
       "      <td>18541204</td>\n",
       "      <td>1458604800</td>\n",
       "      <td>Q1</td>\n",
       "      <td>75</td>\n",
       "      <td>72</td>\n",
       "      <td>63</td>\n",
       "      <td>27830</td>\n",
       "      <td>81</td>\n",
       "      <td>720740</td>\n",
       "      <td>18541.204</td>\n",
       "      <td>5.150334</td>\n",
       "    </tr>\n",
       "    <tr>\n",
       "      <th>331144</th>\n",
       "      <td>false</td>\n",
       "      <td>None</td>\n",
       "      <td>6654437</td>\n",
       "      <td>1496793600</td>\n",
       "      <td>Jack's Playlist</td>\n",
       "      <td>28</td>\n",
       "      <td>26</td>\n",
       "      <td>4</td>\n",
       "      <td>23500</td>\n",
       "      <td>29</td>\n",
       "      <td>928144</td>\n",
       "      <td>6654.437</td>\n",
       "      <td>1.848455</td>\n",
       "    </tr>\n",
       "    <tr>\n",
       "      <th>42077</th>\n",
       "      <td>false</td>\n",
       "      <td>None</td>\n",
       "      <td>12528923</td>\n",
       "      <td>1509408000</td>\n",
       "      <td>Rock Hits</td>\n",
       "      <td>54</td>\n",
       "      <td>54</td>\n",
       "      <td>6</td>\n",
       "      <td>22102</td>\n",
       "      <td>56</td>\n",
       "      <td>159077</td>\n",
       "      <td>12528.923</td>\n",
       "      <td>3.480256</td>\n",
       "    </tr>\n",
       "    <tr>\n",
       "      <th>827215</th>\n",
       "      <td>false</td>\n",
       "      <td>All that pop goodness. Playlist image: &lt;a href...</td>\n",
       "      <td>11005740</td>\n",
       "      <td>1501804800</td>\n",
       "      <td>TOP POP</td>\n",
       "      <td>46</td>\n",
       "      <td>41</td>\n",
       "      <td>2</td>\n",
       "      <td>15842</td>\n",
       "      <td>52</td>\n",
       "      <td>7215</td>\n",
       "      <td>11005.740</td>\n",
       "      <td>3.057150</td>\n",
       "    </tr>\n",
       "    <tr>\n",
       "      <th>937280</th>\n",
       "      <td>false</td>\n",
       "      <td>None</td>\n",
       "      <td>3213942</td>\n",
       "      <td>1424822400</td>\n",
       "      <td>FARRUKO</td>\n",
       "      <td>12</td>\n",
       "      <td>7</td>\n",
       "      <td>3</td>\n",
       "      <td>15123</td>\n",
       "      <td>13</td>\n",
       "      <td>768280</td>\n",
       "      <td>3213.942</td>\n",
       "      <td>0.892762</td>\n",
       "    </tr>\n",
       "    <tr>\n",
       "      <th>832495</th>\n",
       "      <td>false</td>\n",
       "      <td>None</td>\n",
       "      <td>27640823</td>\n",
       "      <td>1459209600</td>\n",
       "      <td>Wiz Khalifa</td>\n",
       "      <td>21</td>\n",
       "      <td>4</td>\n",
       "      <td>8</td>\n",
       "      <td>14812</td>\n",
       "      <td>115</td>\n",
       "      <td>25495</td>\n",
       "      <td>27640.823</td>\n",
       "      <td>7.678006</td>\n",
       "    </tr>\n",
       "  </tbody>\n",
       "</table>\n",
       "</div>"
      ],
      "text/plain": [
       "       collaborative                                        description  \\\n",
       "449269         false                                               None   \n",
       "484359         false          Every song ever featured on Breaking Bad!   \n",
       "580472         false                                               None   \n",
       "113831         false                                               None   \n",
       "343740         false  Jack's <a href=\"http://instagram.com/thatsojac...   \n",
       "331144         false                                               None   \n",
       "42077          false                                               None   \n",
       "827215         false  All that pop goodness. Playlist image: <a href...   \n",
       "937280         false                                               None   \n",
       "832495         false                                               None   \n",
       "\n",
       "        duration_ms  modified_at                name  num_albums  num_artists  \\\n",
       "449269     10567634   1491523200  That's What I Like          37           31   \n",
       "484359     23561532   1381104000        Breaking Bad         102          101   \n",
       "580472     27955610   1509062400       One Tree Hill          85           78   \n",
       "113831     11824924   1478908800      My Little Pony           9           25   \n",
       "343740     18541204   1458604800                  Q1          75           72   \n",
       "331144      6654437   1496793600     Jack's Playlist          28           26   \n",
       "42077      12528923   1509408000           Rock Hits          54           54   \n",
       "827215     11005740   1501804800             TOP POP          46           41   \n",
       "937280      3213942   1424822400             FARRUKO          12            7   \n",
       "832495     27640823   1459209600         Wiz Khalifa          21            4   \n",
       "\n",
       "        num_edits  num_followers  num_tracks     pid    seconds     hours  \n",
       "449269          7          71643          39  248269  10567.634  2.935454  \n",
       "484359         26          53519         106  746359  23561.532  6.544870  \n",
       "580472          8          45942         111  399472  27955.610  7.765447  \n",
       "113831          6          31539          85  180831  11824.924  3.284701  \n",
       "343740         63          27830          81  720740  18541.204  5.150334  \n",
       "331144          4          23500          29  928144   6654.437  1.848455  \n",
       "42077           6          22102          56  159077  12528.923  3.480256  \n",
       "827215          2          15842          52    7215  11005.740  3.057150  \n",
       "937280          3          15123          13  768280   3213.942  0.892762  \n",
       "832495          8          14812         115   25495  27640.823  7.678006  "
      ]
     },
     "execution_count": 7,
     "metadata": {},
     "output_type": "execute_result"
    }
   ],
   "source": [
    "playlists.sort_values(['num_followers'],ascending=False).head(10)"
   ]
  },
  {
   "cell_type": "markdown",
   "metadata": {},
   "source": [
    "#### Less/More"
   ]
  },
  {
   "cell_type": "markdown",
   "metadata": {},
   "source": [
    "98% of playlist have less than 5 followers!"
   ]
  },
  {
   "cell_type": "code",
   "execution_count": 8,
   "metadata": {},
   "outputs": [
    {
     "name": "stdout",
     "output_type": "stream",
     "text": [
      "Less than 50 tracks: 783518\n",
      "More than 50 tracks: 216482\n",
      "\n",
      "\n",
      "Less than 20 artists: 344507\n",
      "More than 20 artists: 655493\n",
      "\n",
      "\n",
      "Less than 20 albums: 261434\n",
      "More than 20 albums: 738566\n",
      "\n",
      "\n",
      "Less than 5 followers: 980162\n",
      "More than 5 followers: 19838\n"
     ]
    }
   ],
   "source": [
    "print('Less than 50 tracks: ' + str(len(playlists[playlists['num_tracks']<=100])))\n",
    "print('More than 50 tracks: ' + str(len(playlists[playlists['num_tracks']>100])))\n",
    "print('\\n')\n",
    "print('Less than 20 artists: ' + str(len(playlists[playlists['num_artists']<=20])))\n",
    "print('More than 20 artists: ' + str(len(playlists[playlists['num_artists']>20])))\n",
    "print('\\n')\n",
    "print('Less than 20 albums: ' + str(len(playlists[playlists['num_albums']<=20])))\n",
    "print('More than 20 albums: ' + str(len(playlists[playlists['num_albums']>20])))\n",
    "print('\\n')\n",
    "print('Less than 5 followers: ' + str(len(playlists[playlists['num_followers']<=5])))\n",
    "print('More than 5 followers: ' + str(len(playlists[playlists['num_followers']>5])))"
   ]
  },
  {
   "cell_type": "markdown",
   "metadata": {},
   "source": [
    "#### Most Popular Playlist Names"
   ]
  },
  {
   "cell_type": "code",
   "execution_count": 9,
   "metadata": {},
   "outputs": [],
   "source": [
    "import nltk\n",
    "from nltk.tokenize import RegexpTokenizer\n",
    "\n",
    "def tokenize(series):\n",
    "    \n",
    "    TOKENIZER_REGEX = r'\\w+'\n",
    "    tokenizer = nltk.tokenize.RegexpTokenizer(TOKENIZER_REGEX)  \n",
    "    return tokenizer.tokenize(series)"
   ]
  },
  {
   "cell_type": "code",
   "execution_count": 10,
   "metadata": {},
   "outputs": [
    {
     "name": "stdout",
     "output_type": "stream",
     "text": [
      "[]              15284\n",
      "[country]       10347\n",
      "[chill]         10196\n",
      "[rap]            8588\n",
      "[workout]        8581\n",
      "[christmas]      8375\n",
      "[oldies]         8146\n",
      "[rock]           6963\n",
      "[party]          6241\n",
      "[throwback]      5882\n",
      "[jams]           5062\n",
      "[summer]         5057\n",
      "[worship]        5052\n",
      "[lit]            4760\n",
      "[feels]          4677\n",
      "[new]            4608\n",
      "[disney]         4269\n",
      "[throwbacks]     4030\n",
      "[music]          3920\n",
      "[sleep]          3625\n",
      "Name: name_tokenized, dtype: int64\n"
     ]
    }
   ],
   "source": [
    "playlists['name'] = playlists.name.str.lower() \n",
    "playlists['name_tokenized'] = playlists['name'].apply(tokenize)\n",
    "print(playlists['name_tokenized'].value_counts().head(20))"
   ]
  },
  {
   "cell_type": "markdown",
   "metadata": {},
   "source": [
    "#### Collaborative Y/N"
   ]
  },
  {
   "cell_type": "markdown",
   "metadata": {},
   "source": [
    "97.7% of Playlists are Not Collaborative"
   ]
  },
  {
   "cell_type": "code",
   "execution_count": 11,
   "metadata": {},
   "outputs": [
    {
     "name": "stdout",
     "output_type": "stream",
     "text": [
      "Not Collaborative: 977431\n",
      "Collaborative:     22569\n"
     ]
    }
   ],
   "source": [
    "print( 'Not Collaborative: ' + str(len(playlists[playlists['collaborative']=='false'])) )\n",
    "print( 'Collaborative:     ' + str(len(playlists[playlists['collaborative']=='true'])) )"
   ]
  },
  {
   "cell_type": "markdown",
   "metadata": {},
   "source": [
    "### Graphs"
   ]
  },
  {
   "cell_type": "markdown",
   "metadata": {},
   "source": [
    "### Distribution of Tracks"
   ]
  },
  {
   "cell_type": "code",
   "execution_count": 16,
   "metadata": {},
   "outputs": [
    {
     "data": {
      "image/png": "[encoded data removed]",
      "text/plain": [
       "<Figure size 576x576 with 1 Axes>"
      ]
     },
     "metadata": {
      "needs_background": "light"
     },
     "output_type": "display_data"
    }
   ],
   "source": [
    "ax = playlists.hist(column='num_tracks', bins=25, grid=False, figsize=(8,8), color='#86bf91', zorder=2, rwidth=.95)\n",
    "\n",
    "ax = ax[0]\n",
    "for x in ax:\n",
    "\n",
    "    \n",
    "    x.spines['right'].set_visible(False)\n",
    "    x.spines['top'].set_visible(False)\n",
    "    x.spines['left'].set_visible(False)\n",
    "    \n",
    "   \n",
    "    x.tick_params(axis=\"both\", which=\"both\", bottom=False, top=False, labelbottom=True, left=False, right=False, labelleft=True)\n",
    "\n",
    "    \n",
    "    vals = x.get_yticks()\n",
    "    for tick in vals:\n",
    "        x.axhline(y=tick, linestyle='dashed', alpha=1, color='#eeeeee', zorder=1)\n",
    "\n",
    "    \n",
    "    x.set_title(\"Distrubition of Number of Tracks Per Playlist\",size=20)\n",
    "\n",
    "   \n",
    "    x.set_xlabel(\"Number of Tracks\", labelpad=20, weight='bold', size=18)\n",
    "\n",
    "   \n",
    "    x.set_ylabel(\"Count of Tracks\", labelpad=20, weight='bold', size=18)"
   ]
  },
  {
   "cell_type": "markdown",
   "metadata": {},
   "source": [
    "#### Number of Playlists over 25 hours playtime"
   ]
  },
  {
   "cell_type": "code",
   "execution_count": 13,
   "metadata": {},
   "outputs": [],
   "source": [
    "playlists = playlists.drop('description',axis=1)"
   ]
  },
  {
   "cell_type": "code",
   "execution_count": 14,
   "metadata": {},
   "outputs": [],
   "source": [
    "over_25_hours = str((playlists[playlists['hours'] >= 25]).count().unique())"
   ]
  },
  {
   "cell_type": "code",
   "execution_count": 15,
   "metadata": {},
   "outputs": [
    {
     "data": {
      "image/png": "[encoded data removed]",
      "text/plain": [
       "<Figure size 576x576 with 1 Axes>"
      ]
     },
     "metadata": {
      "needs_background": "light"
     },
     "output_type": "display_data"
    }
   ],
   "source": [
    "ax = playlists.hist(column='hours', bins=100, grid=False, figsize=(8,8), color='#86bf91', zorder=2, rwidth=.95)\n",
    "\n",
    "ax = ax[0]\n",
    "for x in ax:\n",
    "\n",
    "    \n",
    "    x.spines['right'].set_visible(False)\n",
    "    x.spines['top'].set_visible(False)\n",
    "    x.spines['left'].set_visible(False)\n",
    "\n",
    "   \n",
    "    x.tick_params(axis=\"both\", which=\"both\", bottom=\"off\", top=\"off\", labelbottom=\"on\", left=\"off\", right=\"off\", labelleft=\"on\")\n",
    "\n",
    "    \n",
    "    vals = x.get_yticks()\n",
    "    for tick in vals:\n",
    "        x.axhline(y=tick, linestyle='dashed', alpha=1, color='#eeeeee', zorder=1)\n",
    "\n",
    "    \n",
    "    x.set_title(\"Distrubition of Playlist Duration (Hours)\",size=20)\n",
    "\n",
    "    x.text(s=str('Number of Playlist Runtime Over 25 Hours = '+ over_25_hours),x=6,y=275000,size='12')\n",
    "    x.set_xlabel(\"Playlist Duration (hours)\", labelpad=20, weight='bold', size=18)\n",
    "\n",
    "   \n",
    "    x.set_ylabel(\"Count of Tracks\", labelpad=20, weight='bold', size=18)\n",
    "    x.set_xlim(0, 25)"
   ]
  }
 ],
 "metadata": {
  "kernelspec": {
   "display_name": "Python 3",
   "language": "python",
   "name": "python3"
  },
  "language_info": {
   "codemirror_mode": {
    "name": "ipython",
    "version": 3
   },
   "file_extension": ".py",
   "mimetype": "text/x-python",
   "name": "python",
   "nbconvert_exporter": "python",
   "pygments_lexer": "ipython3",
   "version": "3.7.2"
  }
 },
 "nbformat": 4,
 "nbformat_minor": 2
}
