{
 "cells": [
  {
   "cell_type": "code",
   "execution_count": 1,
   "metadata": {},
   "outputs": [],
   "source": [
    "import pandas as pd\n",
    "import sklearn.cluster\n",
    "import pandas as pd\n",
    "import numpy as np\n",
    "import math\n",
    "import operator\n",
    "import sklearn\n",
    "import matplotlib.pyplot as plt\n",
    "\n",
    "#importlib.invalidate_caches()\n",
    "%load_ext autoreload\n",
    "%autoreload 2"
   ]
  },
  {
   "cell_type": "code",
   "execution_count": 2,
   "metadata": {},
   "outputs": [],
   "source": [
    "audio_features = pd.read_pickle('../Pickle_Files/audio_features.pkl')"
   ]
  },
  {
   "cell_type": "code",
   "execution_count": 3,
   "metadata": {},
   "outputs": [
    {
     "data": {
      "text/html": [
       "<div>\n",
       "<style scoped>\n",
       "    .dataframe tbody tr th:only-of-type {\n",
       "        vertical-align: middle;\n",
       "    }\n",
       "\n",
       "    .dataframe tbody tr th {\n",
       "        vertical-align: top;\n",
       "    }\n",
       "\n",
       "    .dataframe thead th {\n",
       "        text-align: right;\n",
       "    }\n",
       "</style>\n",
       "<table border=\"1\" class=\"dataframe\">\n",
       "  <thead>\n",
       "    <tr style=\"text-align: right;\">\n",
       "      <th></th>\n",
       "      <th>acousticness</th>\n",
       "      <th>danceability</th>\n",
       "      <th>energy</th>\n",
       "      <th>id</th>\n",
       "      <th>instrumentalness</th>\n",
       "      <th>key</th>\n",
       "      <th>liveness</th>\n",
       "      <th>loudness</th>\n",
       "      <th>mode</th>\n",
       "      <th>sp_id</th>\n",
       "      <th>speechiness</th>\n",
       "      <th>tempo</th>\n",
       "      <th>time_signature</th>\n",
       "      <th>track_uri</th>\n",
       "      <th>valence</th>\n",
       "    </tr>\n",
       "  </thead>\n",
       "  <tbody>\n",
       "    <tr>\n",
       "      <th>0</th>\n",
       "      <td>0.02040</td>\n",
       "      <td>0.708</td>\n",
       "      <td>0.610</td>\n",
       "      <td>1</td>\n",
       "      <td>0.000004</td>\n",
       "      <td>2</td>\n",
       "      <td>0.0641</td>\n",
       "      <td>-4.522</td>\n",
       "      <td>1</td>\n",
       "      <td>0XLOf9LhyazPX9Ld8jPiUq</td>\n",
       "      <td>0.0574</td>\n",
       "      <td>123.038</td>\n",
       "      <td>4</td>\n",
       "      <td>spotify:track:0XLOf9LhyazPX9Ld8jPiUq</td>\n",
       "      <td>0.305</td>\n",
       "    </tr>\n",
       "    <tr>\n",
       "      <th>1</th>\n",
       "      <td>0.18300</td>\n",
       "      <td>0.593</td>\n",
       "      <td>0.868</td>\n",
       "      <td>2</td>\n",
       "      <td>0.000000</td>\n",
       "      <td>1</td>\n",
       "      <td>0.3650</td>\n",
       "      <td>-3.573</td>\n",
       "      <td>0</td>\n",
       "      <td>7aF09WaavZAmAWuUeYxlYD</td>\n",
       "      <td>0.2950</td>\n",
       "      <td>104.988</td>\n",
       "      <td>4</td>\n",
       "      <td>spotify:track:7aF09WaavZAmAWuUeYxlYD</td>\n",
       "      <td>0.496</td>\n",
       "    </tr>\n",
       "    <tr>\n",
       "      <th>2</th>\n",
       "      <td>0.00683</td>\n",
       "      <td>0.600</td>\n",
       "      <td>0.810</td>\n",
       "      <td>3</td>\n",
       "      <td>0.210000</td>\n",
       "      <td>0</td>\n",
       "      <td>0.1550</td>\n",
       "      <td>-4.749</td>\n",
       "      <td>1</td>\n",
       "      <td>0tKcYR2II1VCQWT79i5NrW</td>\n",
       "      <td>0.0479</td>\n",
       "      <td>167.880</td>\n",
       "      <td>4</td>\n",
       "      <td>spotify:track:0tKcYR2II1VCQWT79i5NrW</td>\n",
       "      <td>0.298</td>\n",
       "    </tr>\n",
       "    <tr>\n",
       "      <th>3</th>\n",
       "      <td>0.01620</td>\n",
       "      <td>0.503</td>\n",
       "      <td>0.918</td>\n",
       "      <td>4</td>\n",
       "      <td>0.024400</td>\n",
       "      <td>11</td>\n",
       "      <td>0.1860</td>\n",
       "      <td>-5.010</td>\n",
       "      <td>1</td>\n",
       "      <td>6TWSVHx6z6E42JiwloGv1k</td>\n",
       "      <td>0.0464</td>\n",
       "      <td>140.000</td>\n",
       "      <td>4</td>\n",
       "      <td>spotify:track:6TWSVHx6z6E42JiwloGv1k</td>\n",
       "      <td>0.418</td>\n",
       "    </tr>\n",
       "    <tr>\n",
       "      <th>4</th>\n",
       "      <td>0.01850</td>\n",
       "      <td>0.760</td>\n",
       "      <td>0.561</td>\n",
       "      <td>5</td>\n",
       "      <td>0.000019</td>\n",
       "      <td>1</td>\n",
       "      <td>0.1990</td>\n",
       "      <td>-8.697</td>\n",
       "      <td>1</td>\n",
       "      <td>5QqyRUZeBE04yJxsD1OC0I</td>\n",
       "      <td>0.1340</td>\n",
       "      <td>134.983</td>\n",
       "      <td>4</td>\n",
       "      <td>spotify:track:5QqyRUZeBE04yJxsD1OC0I</td>\n",
       "      <td>0.121</td>\n",
       "    </tr>\n",
       "  </tbody>\n",
       "</table>\n",
       "</div>"
      ],
      "text/plain": [
       "   acousticness  danceability  energy  id  instrumentalness key  liveness  \\\n",
       "0       0.02040         0.708   0.610   1          0.000004   2    0.0641   \n",
       "1       0.18300         0.593   0.868   2          0.000000   1    0.3650   \n",
       "2       0.00683         0.600   0.810   3          0.210000   0    0.1550   \n",
       "3       0.01620         0.503   0.918   4          0.024400  11    0.1860   \n",
       "4       0.01850         0.760   0.561   5          0.000019   1    0.1990   \n",
       "\n",
       "   loudness mode                   sp_id  speechiness    tempo time_signature  \\\n",
       "0    -4.522    1  0XLOf9LhyazPX9Ld8jPiUq       0.0574  123.038              4   \n",
       "1    -3.573    0  7aF09WaavZAmAWuUeYxlYD       0.2950  104.988              4   \n",
       "2    -4.749    1  0tKcYR2II1VCQWT79i5NrW       0.0479  167.880              4   \n",
       "3    -5.010    1  6TWSVHx6z6E42JiwloGv1k       0.0464  140.000              4   \n",
       "4    -8.697    1  5QqyRUZeBE04yJxsD1OC0I       0.1340  134.983              4   \n",
       "\n",
       "                              track_uri  valence  \n",
       "0  spotify:track:0XLOf9LhyazPX9Ld8jPiUq    0.305  \n",
       "1  spotify:track:7aF09WaavZAmAWuUeYxlYD    0.496  \n",
       "2  spotify:track:0tKcYR2II1VCQWT79i5NrW    0.298  \n",
       "3  spotify:track:6TWSVHx6z6E42JiwloGv1k    0.418  \n",
       "4  spotify:track:5QqyRUZeBE04yJxsD1OC0I    0.121  "
      ]
     },
     "execution_count": 3,
     "metadata": {},
     "output_type": "execute_result"
    }
   ],
   "source": [
    "audio_features.head()"
   ]
  },
  {
   "cell_type": "code",
   "execution_count": 4,
   "metadata": {},
   "outputs": [
    {
     "name": "stdout",
     "output_type": "stream",
     "text": [
      "<class 'pandas.core.frame.DataFrame'>\n",
      "RangeIndex: 2262133 entries, 0 to 2262132\n",
      "Data columns (total 15 columns):\n",
      "acousticness        float64\n",
      "danceability        float64\n",
      "energy              float64\n",
      "id                  int64\n",
      "instrumentalness    float64\n",
      "key                 object\n",
      "liveness            float64\n",
      "loudness            float64\n",
      "mode                object\n",
      "sp_id               object\n",
      "speechiness         float64\n",
      "tempo               float64\n",
      "time_signature      object\n",
      "track_uri           object\n",
      "valence             float64\n",
      "dtypes: float64(9), int64(1), object(5)\n",
      "memory usage: 258.9+ MB\n"
     ]
    }
   ],
   "source": [
    "audio_features.info()"
   ]
  },
  {
   "cell_type": "code",
   "execution_count": 5,
   "metadata": {},
   "outputs": [],
   "source": [
    "audio_features['key'] = audio_features['key'].astype(int)\n",
    "audio_features['mode'] = audio_features['mode'].astype(int)\n",
    "audio_features['time_signature'] = audio_features['time_signature'].astype(int)"
   ]
  },
  {
   "cell_type": "markdown",
   "metadata": {},
   "source": [
    "#### 418 Songs Have Incorrect Audio Features\n",
    "Removing them from possible recommendations"
   ]
  },
  {
   "cell_type": "code",
   "execution_count": 6,
   "metadata": {},
   "outputs": [],
   "source": [
    "track_audio_features = audio_features[audio_features.energy == 0]"
   ]
  },
  {
   "cell_type": "code",
   "execution_count": 7,
   "metadata": {
    "scrolled": true
   },
   "outputs": [
    {
     "data": {
      "text/plain": [
       "418"
      ]
     },
     "execution_count": 7,
     "metadata": {},
     "output_type": "execute_result"
    }
   ],
   "source": [
    "len(track_audio_features)"
   ]
  },
  {
   "cell_type": "code",
   "execution_count": 8,
   "metadata": {},
   "outputs": [],
   "source": [
    "audio_features = audio_features[audio_features.energy != 0]"
   ]
  },
  {
   "cell_type": "markdown",
   "metadata": {},
   "source": [
    "#### Dropping sp_id and id - Irrelevant"
   ]
  },
  {
   "cell_type": "code",
   "execution_count": 9,
   "metadata": {},
   "outputs": [],
   "source": [
    "audio_features = audio_features.drop(['sp_id','id'],axis=1)"
   ]
  },
  {
   "cell_type": "markdown",
   "metadata": {},
   "source": [
    "#### Filling Null Valence with Mean"
   ]
  },
  {
   "cell_type": "code",
   "execution_count": 10,
   "metadata": {
    "scrolled": true
   },
   "outputs": [
    {
     "data": {
      "text/plain": [
       "acousticness        0\n",
       "danceability        0\n",
       "energy              0\n",
       "instrumentalness    0\n",
       "key                 0\n",
       "liveness            0\n",
       "loudness            0\n",
       "mode                0\n",
       "speechiness         0\n",
       "tempo               0\n",
       "time_signature      0\n",
       "track_uri           0\n",
       "valence             1\n",
       "dtype: int64"
      ]
     },
     "execution_count": 10,
     "metadata": {},
     "output_type": "execute_result"
    }
   ],
   "source": [
    "audio_features.isnull().sum()"
   ]
  },
  {
   "cell_type": "code",
   "execution_count": 11,
   "metadata": {},
   "outputs": [],
   "source": [
    "audio_features['valence'] = audio_features['valence'].fillna(audio_features['valence'].mean())"
   ]
  },
  {
   "cell_type": "code",
   "execution_count": 12,
   "metadata": {},
   "outputs": [
    {
     "data": {
      "text/plain": [
       "acousticness        0\n",
       "danceability        0\n",
       "energy              0\n",
       "instrumentalness    0\n",
       "key                 0\n",
       "liveness            0\n",
       "loudness            0\n",
       "mode                0\n",
       "speechiness         0\n",
       "tempo               0\n",
       "time_signature      0\n",
       "track_uri           0\n",
       "valence             0\n",
       "dtype: int64"
      ]
     },
     "execution_count": 12,
     "metadata": {},
     "output_type": "execute_result"
    }
   ],
   "source": [
    "audio_features.isnull().sum()"
   ]
  },
  {
   "cell_type": "markdown",
   "metadata": {},
   "source": [
    "#### Lots of songs have 0 in some features. \n",
    "This is mainly attributed to them being very short in length (less 20 seconds).<br>\n",
    "Will remove for recommendations as it could cause problems.<br>\n",
    "Other 0 values are correct after sampling random songs."
   ]
  },
  {
   "cell_type": "code",
   "execution_count": 13,
   "metadata": {
    "scrolled": true
   },
   "outputs": [
    {
     "data": {
      "text/html": [
       "<div>\n",
       "<style scoped>\n",
       "    .dataframe tbody tr th:only-of-type {\n",
       "        vertical-align: middle;\n",
       "    }\n",
       "\n",
       "    .dataframe tbody tr th {\n",
       "        vertical-align: top;\n",
       "    }\n",
       "\n",
       "    .dataframe thead th {\n",
       "        text-align: right;\n",
       "    }\n",
       "</style>\n",
       "<table border=\"1\" class=\"dataframe\">\n",
       "  <thead>\n",
       "    <tr style=\"text-align: right;\">\n",
       "      <th></th>\n",
       "      <th>acousticness</th>\n",
       "      <th>danceability</th>\n",
       "      <th>energy</th>\n",
       "      <th>instrumentalness</th>\n",
       "      <th>key</th>\n",
       "      <th>liveness</th>\n",
       "      <th>loudness</th>\n",
       "      <th>mode</th>\n",
       "      <th>speechiness</th>\n",
       "      <th>tempo</th>\n",
       "      <th>time_signature</th>\n",
       "      <th>track_uri</th>\n",
       "      <th>valence</th>\n",
       "    </tr>\n",
       "  </thead>\n",
       "  <tbody>\n",
       "    <tr>\n",
       "      <th>6698</th>\n",
       "      <td>0.0321</td>\n",
       "      <td>0.0</td>\n",
       "      <td>0.331000</td>\n",
       "      <td>0.917</td>\n",
       "      <td>0</td>\n",
       "      <td>0.0831</td>\n",
       "      <td>-8.115</td>\n",
       "      <td>1</td>\n",
       "      <td>0.0</td>\n",
       "      <td>0.0</td>\n",
       "      <td>0</td>\n",
       "      <td>spotify:track:4DG4um6R0wx4WrqhhACc5g</td>\n",
       "      <td>0.0</td>\n",
       "    </tr>\n",
       "    <tr>\n",
       "      <th>9371</th>\n",
       "      <td>0.0455</td>\n",
       "      <td>0.0</td>\n",
       "      <td>0.639000</td>\n",
       "      <td>0.000</td>\n",
       "      <td>2</td>\n",
       "      <td>0.6630</td>\n",
       "      <td>-6.115</td>\n",
       "      <td>0</td>\n",
       "      <td>0.0</td>\n",
       "      <td>0.0</td>\n",
       "      <td>0</td>\n",
       "      <td>spotify:track:2iq9JouHeGBsOT0XJwSlz2</td>\n",
       "      <td>0.0</td>\n",
       "    </tr>\n",
       "    <tr>\n",
       "      <th>9373</th>\n",
       "      <td>0.9770</td>\n",
       "      <td>0.0</td>\n",
       "      <td>0.104000</td>\n",
       "      <td>0.000</td>\n",
       "      <td>7</td>\n",
       "      <td>0.1190</td>\n",
       "      <td>-9.308</td>\n",
       "      <td>1</td>\n",
       "      <td>0.0</td>\n",
       "      <td>0.0</td>\n",
       "      <td>0</td>\n",
       "      <td>spotify:track:3mviGvUGUp1Pii6qm5uAdv</td>\n",
       "      <td>0.0</td>\n",
       "    </tr>\n",
       "    <tr>\n",
       "      <th>9377</th>\n",
       "      <td>0.0000</td>\n",
       "      <td>0.0</td>\n",
       "      <td>0.000379</td>\n",
       "      <td>0.000</td>\n",
       "      <td>2</td>\n",
       "      <td>0.0000</td>\n",
       "      <td>-23.264</td>\n",
       "      <td>1</td>\n",
       "      <td>0.0</td>\n",
       "      <td>0.0</td>\n",
       "      <td>0</td>\n",
       "      <td>spotify:track:2LZK6VvqPqkoi1Ujvef03z</td>\n",
       "      <td>0.0</td>\n",
       "    </tr>\n",
       "    <tr>\n",
       "      <th>11472</th>\n",
       "      <td>0.6180</td>\n",
       "      <td>0.0</td>\n",
       "      <td>0.072100</td>\n",
       "      <td>0.694</td>\n",
       "      <td>2</td>\n",
       "      <td>0.0000</td>\n",
       "      <td>-22.480</td>\n",
       "      <td>1</td>\n",
       "      <td>0.0</td>\n",
       "      <td>0.0</td>\n",
       "      <td>0</td>\n",
       "      <td>spotify:track:4Fz1WWr5o0OrlIcZxcyZtK</td>\n",
       "      <td>0.0</td>\n",
       "    </tr>\n",
       "  </tbody>\n",
       "</table>\n",
       "</div>"
      ],
      "text/plain": [
       "       acousticness  danceability    energy  instrumentalness  key  liveness  \\\n",
       "6698         0.0321           0.0  0.331000             0.917    0    0.0831   \n",
       "9371         0.0455           0.0  0.639000             0.000    2    0.6630   \n",
       "9373         0.9770           0.0  0.104000             0.000    7    0.1190   \n",
       "9377         0.0000           0.0  0.000379             0.000    2    0.0000   \n",
       "11472        0.6180           0.0  0.072100             0.694    2    0.0000   \n",
       "\n",
       "       loudness  mode  speechiness  tempo  time_signature  \\\n",
       "6698     -8.115     1          0.0    0.0               0   \n",
       "9371     -6.115     0          0.0    0.0               0   \n",
       "9373     -9.308     1          0.0    0.0               0   \n",
       "9377    -23.264     1          0.0    0.0               0   \n",
       "11472   -22.480     1          0.0    0.0               0   \n",
       "\n",
       "                                  track_uri  valence  \n",
       "6698   spotify:track:4DG4um6R0wx4WrqhhACc5g      0.0  \n",
       "9371   spotify:track:2iq9JouHeGBsOT0XJwSlz2      0.0  \n",
       "9373   spotify:track:3mviGvUGUp1Pii6qm5uAdv      0.0  \n",
       "9377   spotify:track:2LZK6VvqPqkoi1Ujvef03z      0.0  \n",
       "11472  spotify:track:4Fz1WWr5o0OrlIcZxcyZtK      0.0  "
      ]
     },
     "execution_count": 13,
     "metadata": {},
     "output_type": "execute_result"
    }
   ],
   "source": [
    "audio_features[audio_features['tempo'] == 0].head(5)"
   ]
  },
  {
   "cell_type": "markdown",
   "metadata": {},
   "source": [
    "#### Averages"
   ]
  },
  {
   "cell_type": "code",
   "execution_count": 14,
   "metadata": {},
   "outputs": [
    {
     "name": "stdout",
     "output_type": "stream",
     "text": [
      "acousticness mean: 0.3550146365193845\n",
      "danceability mean: 0.5505726613653797\n",
      "energy mean: 0.5850353599919527\n",
      "instrumentalness mean: 0.22083376861014764\n",
      "liveness mean: 0.2093197049274555\n",
      "loudness mean: -9.654175217036629\n",
      "speechiness mean: 0.08939162312669803\n",
      "tempo mean: 120.00268459465491\n",
      "valence mean: 0.47591965383425994\n",
      "key mean: 5.262110389682166\n"
     ]
    }
   ],
   "source": [
    "print('acousticness mean:',audio_features['acousticness'].mean())\n",
    "print('danceability mean:',audio_features['danceability'].mean())\n",
    "print('energy mean:',audio_features['energy'].mean())\n",
    "print('instrumentalness mean:',audio_features['instrumentalness'].mean())\n",
    "print('liveness mean:',audio_features['liveness'].mean())\n",
    "print('loudness mean:',audio_features['loudness'].mean())\n",
    "print('speechiness mean:',audio_features['speechiness'].mean())\n",
    "print('tempo mean:',audio_features['tempo'].mean())\n",
    "print('valence mean:',audio_features['valence'].mean())\n",
    "print('key mean:',audio_features['key'].mean())"
   ]
  },
  {
   "cell_type": "code",
   "execution_count": 15,
   "metadata": {
    "scrolled": true
   },
   "outputs": [
    {
     "name": "stdout",
     "output_type": "stream",
     "text": [
      "acousticness max: 0.996\n",
      "danceability max: 0.996\n",
      "energy max: 1.0\n",
      "instrumentalness max: 1.0\n",
      "liveness max: 1.0\n",
      "loudness max: 4.923\n",
      "speechiness max: 0.971\n",
      "tempo max: 249.987\n",
      "valence max: 1.0\n",
      "key max: 11\n",
      "\n",
      "\n",
      "acousticness min: 0.0\n",
      "danceability min: 0.0\n",
      "energy min: 1.32e-05\n",
      "instrumentalness min: 0.0\n",
      "liveness min: 0.0\n",
      "loudness min: -60.0\n",
      "speechiness min: 0.0\n",
      "tempo min: 0.0\n",
      "valence min: 0.0\n",
      "key min: 0\n"
     ]
    }
   ],
   "source": [
    "print('acousticness max:',audio_features['acousticness'].max())\n",
    "print('danceability max:',audio_features['danceability'].max())\n",
    "print('energy max:',audio_features['energy'].max())\n",
    "print('instrumentalness max:',audio_features['instrumentalness'].max())\n",
    "print('liveness max:',audio_features['liveness'].max())\n",
    "print('loudness max:',audio_features['loudness'].max())\n",
    "print('speechiness max:',audio_features['speechiness'].max())\n",
    "print('tempo max:',audio_features['tempo'].max())\n",
    "print('valence max:',audio_features['valence'].max())\n",
    "print('key max:',audio_features['key'].max())\n",
    "print('\\n')\n",
    "print('acousticness min:',audio_features['acousticness'].min())\n",
    "print('danceability min:',audio_features['danceability'].min())\n",
    "print('energy min:',audio_features['energy'].min())\n",
    "print('instrumentalness min:',audio_features['instrumentalness'].min())\n",
    "print('liveness min:',audio_features['liveness'].min())\n",
    "print('loudness min:',audio_features['loudness'].min())\n",
    "print('speechiness min:',audio_features['speechiness'].min())\n",
    "print('tempo min:',audio_features['tempo'].min())\n",
    "print('valence min:',audio_features['valence'].min())\n",
    "print('key min:',audio_features['key'].min())"
   ]
  },
  {
   "cell_type": "markdown",
   "metadata": {},
   "source": [
    "#### Overwriting audio_features with new count column"
   ]
  },
  {
   "cell_type": "code",
   "execution_count": 17,
   "metadata": {},
   "outputs": [],
   "source": [
    "audio_features.to_pickle('../Pickle_Files/audio_features.pkl')"
   ]
  }
 ],
 "metadata": {
  "kernelspec": {
   "display_name": "Python 3",
   "language": "python",
   "name": "python3"
  }
 },
 "nbformat": 4,
 "nbformat_minor": 2
}
