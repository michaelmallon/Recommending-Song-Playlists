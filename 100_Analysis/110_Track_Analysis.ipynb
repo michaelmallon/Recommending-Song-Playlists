{
 "cells": [
  {
   "cell_type": "code",
   "execution_count": 1,
   "metadata": {},
   "outputs": [],
   "source": [
    "import pandas as pd\n",
    "import sklearn.cluster\n",
    "import pandas as pd\n",
    "import numpy as np\n",
    "import math\n",
    "import operator\n",
    "import sklearn\n",
    "import matplotlib.pyplot as plt\n",
    "\n",
    "#importlib.invalidate_caches()\n",
    "%load_ext autoreload\n",
    "%autoreload 2"
   ]
  },
  {
   "cell_type": "code",
   "execution_count": 2,
   "metadata": {},
   "outputs": [],
   "source": [
    "tracks = pd.read_pickle('../Pickle_Files/tracks.pkl')"
   ]
  },
  {
   "cell_type": "code",
   "execution_count": 3,
   "metadata": {},
   "outputs": [
    {
     "data": {
      "text/html": [
       "<div>\n",
       "<style scoped>\n",
       "    .dataframe tbody tr th:only-of-type {\n",
       "        vertical-align: middle;\n",
       "    }\n",
       "\n",
       "    .dataframe tbody tr th {\n",
       "        vertical-align: top;\n",
       "    }\n",
       "\n",
       "    .dataframe thead th {\n",
       "        text-align: right;\n",
       "    }\n",
       "</style>\n",
       "<table border=\"1\" class=\"dataframe\">\n",
       "  <thead>\n",
       "    <tr style=\"text-align: right;\">\n",
       "      <th></th>\n",
       "      <th>album_name</th>\n",
       "      <th>album_uri</th>\n",
       "      <th>artist_name</th>\n",
       "      <th>artist_uri</th>\n",
       "      <th>duration_ms</th>\n",
       "      <th>pos</th>\n",
       "      <th>track_name</th>\n",
       "      <th>track_uri</th>\n",
       "    </tr>\n",
       "  </thead>\n",
       "  <tbody>\n",
       "    <tr>\n",
       "      <th>0</th>\n",
       "      <td>Trent Harmon</td>\n",
       "      <td>spotify:album:49yGJcukFJpH2PexP1yTe8</td>\n",
       "      <td>Trent Harmon</td>\n",
       "      <td>spotify:artist:1YSoHvvSAY0oOJW7VxJx3M</td>\n",
       "      <td>215013</td>\n",
       "      <td>None</td>\n",
       "      <td>There’s A Girl</td>\n",
       "      <td>spotify:track:6VzugG03A5OieXT0BZmZxe</td>\n",
       "    </tr>\n",
       "    <tr>\n",
       "      <th>1</th>\n",
       "      <td>Illinois</td>\n",
       "      <td>spotify:album:5Og3UBs6tCL47yee1ukYgw</td>\n",
       "      <td>Brett Eldredge</td>\n",
       "      <td>spotify:artist:0qSX3s5pJnAlSsgsCne8Cz</td>\n",
       "      <td>236226</td>\n",
       "      <td>None</td>\n",
       "      <td>Wanna Be That Song</td>\n",
       "      <td>spotify:track:1XazlqB4YAtvouCmJPWXlM</td>\n",
       "    </tr>\n",
       "    <tr>\n",
       "      <th>2</th>\n",
       "      <td>California Sunrise</td>\n",
       "      <td>spotify:album:1DTBcVfk3zXPHRmgpY6rFZ</td>\n",
       "      <td>Jon Pardi</td>\n",
       "      <td>spotify:artist:4MoAOfV4ROWofLG3a3hhBN</td>\n",
       "      <td>202346</td>\n",
       "      <td>None</td>\n",
       "      <td>Head Over Boots</td>\n",
       "      <td>spotify:track:4ly1QBXEwYoDmje9rmEgC4</td>\n",
       "    </tr>\n",
       "    <tr>\n",
       "      <th>3</th>\n",
       "      <td>Make A Move</td>\n",
       "      <td>spotify:album:1EQNkmhggPKCVbFpJldHeb</td>\n",
       "      <td>Gavin DeGraw</td>\n",
       "      <td>spotify:artist:5DYAABs8rkY9VhwtENoQCz</td>\n",
       "      <td>197480</td>\n",
       "      <td>None</td>\n",
       "      <td>Make a Move</td>\n",
       "      <td>spotify:track:2U2AVD0mAW5qSqajTMSu9y</td>\n",
       "    </tr>\n",
       "    <tr>\n",
       "      <th>4</th>\n",
       "      <td>Barefoot Blue Jean Night</td>\n",
       "      <td>spotify:album:4GeJssW5iLOSLOIXhLfOUJ</td>\n",
       "      <td>Jake Owen</td>\n",
       "      <td>spotify:artist:1n2pb9Tsfe4SwAjmUac6YT</td>\n",
       "      <td>167426</td>\n",
       "      <td>None</td>\n",
       "      <td>Barefoot Blue Jean Night</td>\n",
       "      <td>spotify:track:3ts6xK5GzfMAAriT9AIBmP</td>\n",
       "    </tr>\n",
       "  </tbody>\n",
       "</table>\n",
       "</div>"
      ],
      "text/plain": [
       "                 album_name                             album_uri  \\\n",
       "0              Trent Harmon  spotify:album:49yGJcukFJpH2PexP1yTe8   \n",
       "1                  Illinois  spotify:album:5Og3UBs6tCL47yee1ukYgw   \n",
       "2        California Sunrise  spotify:album:1DTBcVfk3zXPHRmgpY6rFZ   \n",
       "3               Make A Move  spotify:album:1EQNkmhggPKCVbFpJldHeb   \n",
       "4  Barefoot Blue Jean Night  spotify:album:4GeJssW5iLOSLOIXhLfOUJ   \n",
       "\n",
       "      artist_name                             artist_uri  duration_ms   pos  \\\n",
       "0    Trent Harmon  spotify:artist:1YSoHvvSAY0oOJW7VxJx3M       215013  None   \n",
       "1  Brett Eldredge  spotify:artist:0qSX3s5pJnAlSsgsCne8Cz       236226  None   \n",
       "2       Jon Pardi  spotify:artist:4MoAOfV4ROWofLG3a3hhBN       202346  None   \n",
       "3    Gavin DeGraw  spotify:artist:5DYAABs8rkY9VhwtENoQCz       197480  None   \n",
       "4       Jake Owen  spotify:artist:1n2pb9Tsfe4SwAjmUac6YT       167426  None   \n",
       "\n",
       "                 track_name                             track_uri  \n",
       "0            There’s A Girl  spotify:track:6VzugG03A5OieXT0BZmZxe  \n",
       "1        Wanna Be That Song  spotify:track:1XazlqB4YAtvouCmJPWXlM  \n",
       "2           Head Over Boots  spotify:track:4ly1QBXEwYoDmje9rmEgC4  \n",
       "3               Make a Move  spotify:track:2U2AVD0mAW5qSqajTMSu9y  \n",
       "4  Barefoot Blue Jean Night  spotify:track:3ts6xK5GzfMAAriT9AIBmP  "
      ]
     },
     "execution_count": 3,
     "metadata": {},
     "output_type": "execute_result"
    }
   ],
   "source": [
    "tracks.head()"
   ]
  },
  {
   "cell_type": "code",
   "execution_count": 4,
   "metadata": {},
   "outputs": [],
   "source": [
    "tracks['seconds'] = tracks['duration_ms']/1000\n",
    "tracks['minutes'] = tracks['seconds']/60"
   ]
  },
  {
   "cell_type": "markdown",
   "metadata": {},
   "source": [
    "#### Average Song 4 minutes Long"
   ]
  },
  {
   "cell_type": "code",
   "execution_count": 5,
   "metadata": {},
   "outputs": [
    {
     "name": "stdout",
     "output_type": "stream",
     "text": [
      "Average track duration/mins: 4.141279993902435\n"
     ]
    }
   ],
   "source": [
    "print('Average track duration/mins: ' + str((tracks['minutes'].mean())))"
   ]
  },
  {
   "cell_type": "markdown",
   "metadata": {},
   "source": [
    "#### Max/Min"
   ]
  },
  {
   "cell_type": "code",
   "execution_count": 6,
   "metadata": {},
   "outputs": [
    {
     "name": "stdout",
     "output_type": "stream",
     "text": [
      "Max track duration/mins: 345.7429166666667\n",
      "\n",
      "\n",
      "Min track duration/mins: 0.5000166666666667\n"
     ]
    }
   ],
   "source": [
    "print('Max track duration/mins: ' + str((tracks['minutes'].max())))\n",
    "print('\\n')\n",
    "\n",
    "print('Min track duration/mins: ' + str((tracks['minutes'].min())))"
   ]
  },
  {
   "cell_type": "markdown",
   "metadata": {},
   "source": [
    "#### Most Occuring Artists"
   ]
  },
  {
   "cell_type": "code",
   "execution_count": 7,
   "metadata": {},
   "outputs": [],
   "source": [
    "### Classical Artists Tend To Be Referenced in many songs hence results "
   ]
  },
  {
   "cell_type": "code",
   "execution_count": 8,
   "metadata": {},
   "outputs": [
    {
     "data": {
      "text/plain": [
       "Johann Sebastian Bach       5406\n",
       "Wolfgang Amadeus Mozart     5251\n",
       "Ludwig van Beethoven        4308\n",
       "Frédéric Chopin             3114\n",
       "Pyotr Ilyich Tchaikovsky    2602\n",
       "Vitamin String Quartet      2339\n",
       "Various Artists             2244\n",
       "Grateful Dead               2238\n",
       "Piano Tribute Players       1938\n",
       "Frank Sinatra               1931\n",
       "Antonio Vivaldi             1719\n",
       "Johannes Brahms             1649\n",
       "Traditional                 1584\n",
       "Gucci Mane                  1485\n",
       "Claude Debussy              1481\n",
       "George Frideric Handel      1397\n",
       "Elvis Presley               1376\n",
       "Johnny Cash                 1369\n",
       "Ella Fitzgerald             1300\n",
       "Sergei Rachmaninoff         1263\n",
       "Name: artist_name, dtype: int64"
      ]
     },
     "execution_count": 8,
     "metadata": {},
     "output_type": "execute_result"
    }
   ],
   "source": [
    "tracks['artist_name'].value_counts().head(20)"
   ]
  },
  {
   "cell_type": "markdown",
   "metadata": {},
   "source": [
    "#### Most Occuring Album Name"
   ]
  },
  {
   "cell_type": "code",
   "execution_count": 9,
   "metadata": {},
   "outputs": [
    {
     "data": {
      "text/plain": [
       "Greatest Hits              2167\n",
       "Live                       1273\n",
       "Spotify Sessions           1159\n",
       "Home                        851\n",
       "Original Album Classics     787\n",
       "En Vivo                     647\n",
       "Christmas                   568\n",
       "The Best Of                 485\n",
       "Best Of                     484\n",
       "Forever                     480\n",
       "The Collection              457\n",
       "Gold                        446\n",
       "Grandes Exitos              430\n",
       "The Very Best Of            424\n",
       "One                         415\n",
       "Believe                     415\n",
       "II                          386\n",
       "Anthology                   383\n",
       "EP                          357\n",
       "Handel: Messiah             351\n",
       "Name: album_name, dtype: int64"
      ]
     },
     "execution_count": 9,
     "metadata": {},
     "output_type": "execute_result"
    }
   ],
   "source": [
    "tracks['album_name'].value_counts().head(20)"
   ]
  },
  {
   "cell_type": "markdown",
   "metadata": {},
   "source": [
    "#### Most Occuring Track Name"
   ]
  },
  {
   "cell_type": "markdown",
   "metadata": {},
   "source": [
    "A Clear Christmas theme can be seen here due to so many covers of the same song"
   ]
  },
  {
   "cell_type": "code",
   "execution_count": 15,
   "metadata": {},
   "outputs": [
    {
     "data": {
      "text/plain": [
       "Intro                 1358\n",
       "Silent Night           945\n",
       "Home                   842\n",
       "White Christmas        617\n",
       "O Holy Night           554\n",
       "Jingle Bells           537\n",
       "Amazing Grace          507\n",
       "Stay                   498\n",
       "Hold On                476\n",
       "Forever                465\n",
       "You                    445\n",
       "Winter Wonderland      438\n",
       "Closer                 430\n",
       "Breathe                427\n",
       "Hallelujah             423\n",
       "The Christmas Song     421\n",
       "Time                   416\n",
       "Tonight                414\n",
       "Summertime             400\n",
       "Crazy                  383\n",
       "Name: track_name, dtype: int64"
      ]
     },
     "execution_count": 15,
     "metadata": {},
     "output_type": "execute_result"
    }
   ],
   "source": [
    "tracks['track_name'].value_counts().head(20)"
   ]
  },
  {
   "cell_type": "markdown",
   "metadata": {},
   "source": [
    "#### Removing Songs Less than 30 Seconds (7292)\n",
    "These songs are Intros/Outros.<br>\n",
    "They will affect later recommendations as seen in '130_Audio_Feature.ipynb'"
   ]
  },
  {
   "cell_type": "code",
   "execution_count": 11,
   "metadata": {},
   "outputs": [],
   "source": [
    "len(tracks[tracks['duration_ms'] <= 30000])\n",
    "thirtysecondsongs = tracks[tracks['duration_ms'] <= 30000]"
   ]
  },
  {
   "cell_type": "code",
   "execution_count": 12,
   "metadata": {},
   "outputs": [],
   "source": [
    "tracks.drop(thirtysecondsongs.index, axis=0,inplace=True)"
   ]
  },
  {
   "cell_type": "code",
   "execution_count": 13,
   "metadata": {},
   "outputs": [
    {
     "data": {
      "text/plain": [
       "2255000"
      ]
     },
     "execution_count": 13,
     "metadata": {},
     "output_type": "execute_result"
    }
   ],
   "source": [
    "len(tracks)"
   ]
  },
  {
   "cell_type": "code",
   "execution_count": 14,
   "metadata": {},
   "outputs": [],
   "source": [
    "tracks.to_pickle('../Pickle_Files/tracks.pkl')"
   ]
  }
 ],
 "metadata": {
  "kernelspec": {
   "display_name": "Python 3",
   "language": "python",
   "name": "python3"
  },
  "language_info": {
   "codemirror_mode": {
    "name": "ipython",
    "version": 3
   },
   "file_extension": ".py",
   "mimetype": "text/x-python",
   "name": "python",
   "nbconvert_exporter": "python",
   "pygments_lexer": "ipython3",
   "version": "3.7.2"
  }
 },
 "nbformat": 4,
 "nbformat_minor": 2
}
