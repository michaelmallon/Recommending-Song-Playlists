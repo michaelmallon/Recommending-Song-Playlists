{
 "cells": [
  {
   "cell_type": "code",
   "execution_count": 1,
   "metadata": {},
   "outputs": [],
   "source": [
    "import pandas as pd\n",
    "import sqlalchemy as sa\n",
    "from sqlalchemy.dialects.postgresql import JSON, JSONB\n",
    "from sqlalchemy.ext.declarative import declarative_base\n",
    "from sqlalchemy.orm import sessionmaker\n",
    "import json\n",
    "import csv\n",
    "import datetime\n",
    "from dateutil.parser import parser\n",
    "import os\n",
    "from pprint import pprint\n",
    "from pathlib import Path\n",
    "import glob\n",
    "#from odo import odo\n",
    "import importlib\n",
    "import itertools\n",
    "import sklearn.cluster\n",
    "import pandas as pd\n",
    "import numpy as np\n",
    "import math\n",
    "import operator\n",
    "import sklearn\n",
    "import matplotlib.pyplot as plt\n",
    "\n",
    "#importlib.invalidate_caches()\n",
    "%load_ext autoreload\n",
    "%autoreload 2"
   ]
  },
  {
   "cell_type": "markdown",
   "metadata": {},
   "source": [
    "#### Reading in relevant dataframes"
   ]
  },
  {
   "cell_type": "code",
   "execution_count": 2,
   "metadata": {},
   "outputs": [],
   "source": [
    "audio_features = pd.read_pickle('../Pickle_Files/audio_features.pkl')\n",
    "audio_features = audio_features.drop(['time_signature','mode'],axis=1)"
   ]
  },
  {
   "cell_type": "code",
   "execution_count": 3,
   "metadata": {},
   "outputs": [],
   "source": [
    "song_popularity = pd.read_pickle('../Pickle_Files/Song_Popularity.pkl')\n",
    "song_popularity = song_popularity[['track_uri','Popularity_Rating_Normalized']]"
   ]
  },
  {
   "cell_type": "code",
   "execution_count": 4,
   "metadata": {},
   "outputs": [],
   "source": [
    "clustered_songs = pd.read_pickle('../Pickle_Files/clustered_songs.pkl')\n",
    "clustered_songs = clustered_songs.reset_index()"
   ]
  },
  {
   "cell_type": "code",
   "execution_count": 5,
   "metadata": {},
   "outputs": [],
   "source": [
    "cluster = pd.read_pickle('../Pickle_Files/Cluster_Centers_PCA.pkl')"
   ]
  },
  {
   "cell_type": "code",
   "execution_count": 6,
   "metadata": {},
   "outputs": [],
   "source": [
    "Compare = pd.read_pickle('../Pickle_Files/tracks.pkl')"
   ]
  },
  {
   "cell_type": "markdown",
   "metadata": {},
   "source": [
    "#### Removes previously removed songs"
   ]
  },
  {
   "cell_type": "code",
   "execution_count": 7,
   "metadata": {},
   "outputs": [],
   "source": [
    "Compare = pd.merge(audio_features[['track_uri']],Compare,on='track_uri')\n",
    "audio_features = pd.merge(audio_features,Compare[['track_uri']],on='track_uri')\n",
    "clustered_songs = pd.merge(clustered_songs,Compare[['track_uri']],on='track_uri')\n",
    "song_popularity = pd.merge(song_popularity,Compare[['track_uri']],on='track_uri')"
   ]
  },
  {
   "cell_type": "markdown",
   "metadata": {},
   "source": [
    "#### Merging dataframes for overall cosine ready dataframe"
   ]
  },
  {
   "cell_type": "code",
   "execution_count": 8,
   "metadata": {},
   "outputs": [],
   "source": [
    "df1 = pd.merge(audio_features,song_popularity,on='track_uri')"
   ]
  },
  {
   "cell_type": "code",
   "execution_count": 9,
   "metadata": {},
   "outputs": [],
   "source": [
    "df2 = pd.merge(df1,clustered_songs,on='track_uri')"
   ]
  },
  {
   "cell_type": "code",
   "execution_count": 10,
   "metadata": {},
   "outputs": [],
   "source": [
    "cosine = pd.merge(df2,cluster,on='cluster')"
   ]
  },
  {
   "cell_type": "code",
   "execution_count": 11,
   "metadata": {},
   "outputs": [],
   "source": [
    "cosine = cosine.drop(['cluster'],axis=1).set_index('track_uri')"
   ]
  },
  {
   "cell_type": "markdown",
   "metadata": {},
   "source": [
    "#### Final Cosine Dataframe"
   ]
  },
  {
   "cell_type": "code",
   "execution_count": 12,
   "metadata": {},
   "outputs": [
    {
     "data": {
      "text/html": [
       "<div>\n",
       "<style scoped>\n",
       "    .dataframe tbody tr th:only-of-type {\n",
       "        vertical-align: middle;\n",
       "    }\n",
       "\n",
       "    .dataframe tbody tr th {\n",
       "        vertical-align: top;\n",
       "    }\n",
       "\n",
       "    .dataframe thead th {\n",
       "        text-align: right;\n",
       "    }\n",
       "</style>\n",
       "<table border=\"1\" class=\"dataframe\">\n",
       "  <thead>\n",
       "    <tr style=\"text-align: right;\">\n",
       "      <th></th>\n",
       "      <th>acousticness</th>\n",
       "      <th>danceability</th>\n",
       "      <th>energy</th>\n",
       "      <th>instrumentalness</th>\n",
       "      <th>key</th>\n",
       "      <th>liveness</th>\n",
       "      <th>loudness</th>\n",
       "      <th>speechiness</th>\n",
       "      <th>tempo</th>\n",
       "      <th>valence</th>\n",
       "      <th>Popularity_Rating_Normalized</th>\n",
       "      <th>principal component 1</th>\n",
       "    </tr>\n",
       "    <tr>\n",
       "      <th>track_uri</th>\n",
       "      <th></th>\n",
       "      <th></th>\n",
       "      <th></th>\n",
       "      <th></th>\n",
       "      <th></th>\n",
       "      <th></th>\n",
       "      <th></th>\n",
       "      <th></th>\n",
       "      <th></th>\n",
       "      <th></th>\n",
       "      <th></th>\n",
       "      <th></th>\n",
       "    </tr>\n",
       "  </thead>\n",
       "  <tbody>\n",
       "    <tr>\n",
       "      <th>spotify:track:0XLOf9LhyazPX9Ld8jPiUq</th>\n",
       "      <td>0.0204</td>\n",
       "      <td>0.708</td>\n",
       "      <td>0.610</td>\n",
       "      <td>0.000004</td>\n",
       "      <td>2</td>\n",
       "      <td>0.0641</td>\n",
       "      <td>-4.522</td>\n",
       "      <td>0.0574</td>\n",
       "      <td>123.038</td>\n",
       "      <td>0.305</td>\n",
       "      <td>0.810959</td>\n",
       "      <td>-1.960397</td>\n",
       "    </tr>\n",
       "    <tr>\n",
       "      <th>spotify:track:5hfpu8saHLGedbHRtNCYjm</th>\n",
       "      <td>0.0202</td>\n",
       "      <td>0.961</td>\n",
       "      <td>0.625</td>\n",
       "      <td>0.000002</td>\n",
       "      <td>4</td>\n",
       "      <td>0.0895</td>\n",
       "      <td>-5.070</td>\n",
       "      <td>0.0686</td>\n",
       "      <td>124.992</td>\n",
       "      <td>0.223</td>\n",
       "      <td>0.747913</td>\n",
       "      <td>-1.960397</td>\n",
       "    </tr>\n",
       "    <tr>\n",
       "      <th>spotify:track:0CcQNd8CINkwQfe1RDtGV6</th>\n",
       "      <td>0.0524</td>\n",
       "      <td>0.779</td>\n",
       "      <td>0.787</td>\n",
       "      <td>0.000000</td>\n",
       "      <td>10</td>\n",
       "      <td>0.1400</td>\n",
       "      <td>-4.305</td>\n",
       "      <td>0.1080</td>\n",
       "      <td>124.982</td>\n",
       "      <td>0.708</td>\n",
       "      <td>0.909777</td>\n",
       "      <td>-1.960397</td>\n",
       "    </tr>\n",
       "    <tr>\n",
       "      <th>spotify:track:0gbBzIqrECJOEPvQJIBFs5</th>\n",
       "      <td>0.0162</td>\n",
       "      <td>0.616</td>\n",
       "      <td>0.714</td>\n",
       "      <td>0.000012</td>\n",
       "      <td>9</td>\n",
       "      <td>0.0817</td>\n",
       "      <td>-7.792</td>\n",
       "      <td>0.0982</td>\n",
       "      <td>128.924</td>\n",
       "      <td>0.240</td>\n",
       "      <td>0.832401</td>\n",
       "      <td>-1.960397</td>\n",
       "    </tr>\n",
       "    <tr>\n",
       "      <th>spotify:track:53DB6LJV9B8sz0p1s6tlGS</th>\n",
       "      <td>0.0524</td>\n",
       "      <td>0.523</td>\n",
       "      <td>0.805</td>\n",
       "      <td>0.000000</td>\n",
       "      <td>3</td>\n",
       "      <td>0.0914</td>\n",
       "      <td>-5.473</td>\n",
       "      <td>0.1920</td>\n",
       "      <td>125.358</td>\n",
       "      <td>0.602</td>\n",
       "      <td>0.774982</td>\n",
       "      <td>-1.960397</td>\n",
       "    </tr>\n",
       "  </tbody>\n",
       "</table>\n",
       "</div>"
      ],
      "text/plain": [
       "                                      acousticness  danceability  energy  \\\n",
       "track_uri                                                                  \n",
       "spotify:track:0XLOf9LhyazPX9Ld8jPiUq        0.0204         0.708   0.610   \n",
       "spotify:track:5hfpu8saHLGedbHRtNCYjm        0.0202         0.961   0.625   \n",
       "spotify:track:0CcQNd8CINkwQfe1RDtGV6        0.0524         0.779   0.787   \n",
       "spotify:track:0gbBzIqrECJOEPvQJIBFs5        0.0162         0.616   0.714   \n",
       "spotify:track:53DB6LJV9B8sz0p1s6tlGS        0.0524         0.523   0.805   \n",
       "\n",
       "                                      instrumentalness  key  liveness  \\\n",
       "track_uri                                                               \n",
       "spotify:track:0XLOf9LhyazPX9Ld8jPiUq          0.000004    2    0.0641   \n",
       "spotify:track:5hfpu8saHLGedbHRtNCYjm          0.000002    4    0.0895   \n",
       "spotify:track:0CcQNd8CINkwQfe1RDtGV6          0.000000   10    0.1400   \n",
       "spotify:track:0gbBzIqrECJOEPvQJIBFs5          0.000012    9    0.0817   \n",
       "spotify:track:53DB6LJV9B8sz0p1s6tlGS          0.000000    3    0.0914   \n",
       "\n",
       "                                      loudness  speechiness    tempo  valence  \\\n",
       "track_uri                                                                       \n",
       "spotify:track:0XLOf9LhyazPX9Ld8jPiUq    -4.522       0.0574  123.038    0.305   \n",
       "spotify:track:5hfpu8saHLGedbHRtNCYjm    -5.070       0.0686  124.992    0.223   \n",
       "spotify:track:0CcQNd8CINkwQfe1RDtGV6    -4.305       0.1080  124.982    0.708   \n",
       "spotify:track:0gbBzIqrECJOEPvQJIBFs5    -7.792       0.0982  128.924    0.240   \n",
       "spotify:track:53DB6LJV9B8sz0p1s6tlGS    -5.473       0.1920  125.358    0.602   \n",
       "\n",
       "                                      Popularity_Rating_Normalized  \\\n",
       "track_uri                                                            \n",
       "spotify:track:0XLOf9LhyazPX9Ld8jPiUq                      0.810959   \n",
       "spotify:track:5hfpu8saHLGedbHRtNCYjm                      0.747913   \n",
       "spotify:track:0CcQNd8CINkwQfe1RDtGV6                      0.909777   \n",
       "spotify:track:0gbBzIqrECJOEPvQJIBFs5                      0.832401   \n",
       "spotify:track:53DB6LJV9B8sz0p1s6tlGS                      0.774982   \n",
       "\n",
       "                                      principal component 1  \n",
       "track_uri                                                    \n",
       "spotify:track:0XLOf9LhyazPX9Ld8jPiUq              -1.960397  \n",
       "spotify:track:5hfpu8saHLGedbHRtNCYjm              -1.960397  \n",
       "spotify:track:0CcQNd8CINkwQfe1RDtGV6              -1.960397  \n",
       "spotify:track:0gbBzIqrECJOEPvQJIBFs5              -1.960397  \n",
       "spotify:track:53DB6LJV9B8sz0p1s6tlGS              -1.960397  "
      ]
     },
     "execution_count": 12,
     "metadata": {},
     "output_type": "execute_result"
    }
   ],
   "source": [
    "cosine.head(5)"
   ]
  },
  {
   "cell_type": "code",
   "execution_count": 13,
   "metadata": {},
   "outputs": [
    {
     "data": {
      "text/plain": [
       "2254670"
      ]
     },
     "execution_count": 13,
     "metadata": {},
     "output_type": "execute_result"
    }
   ],
   "source": [
    "len(cosine)"
   ]
  },
  {
   "cell_type": "code",
   "execution_count": 14,
   "metadata": {},
   "outputs": [],
   "source": [
    "cosine = cosine.sort_values('track_uri',ascending=True)"
   ]
  },
  {
   "cell_type": "code",
   "execution_count": 16,
   "metadata": {},
   "outputs": [],
   "source": [
    "cosine.to_pickle('../Pickle_Files/cosine_dataframe.pkl')"
   ]
  }
 ],
 "metadata": {
  "kernelspec": {
   "display_name": "Python 3",
   "language": "python",
   "name": "python3"
  },
  "language_info": {
   "codemirror_mode": {
    "name": "ipython",
    "version": 3
   },
   "file_extension": ".py",
   "mimetype": "text/x-python",
   "name": "python",
   "nbconvert_exporter": "python",
   "pygments_lexer": "ipython3",
   "version": "3.7.2"
  }
 },
 "nbformat": 4,
 "nbformat_minor": 2
}
