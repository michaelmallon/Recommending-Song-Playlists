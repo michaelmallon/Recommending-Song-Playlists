{
 "cells": [
  {
   "cell_type": "code",
   "execution_count": 1,
   "metadata": {},
   "outputs": [],
   "source": [
    "import pandas as pd\n",
    "import sqlalchemy as sa\n",
    "from sqlalchemy.dialects.postgresql import JSON, JSONB\n",
    "from sqlalchemy.ext.declarative import declarative_base\n",
    "from sqlalchemy.orm import sessionmaker\n",
    "import json\n",
    "import datetime\n",
    "from dateutil.parser import parser\n",
    "import os\n",
    "from pprint import pprint\n",
    "from pathlib import Path\n",
    "import glob\n",
    "#from odo import odo\n",
    "import importlib\n",
    "import itertools\n",
    "import numpy as np\n",
    "\n",
    "#importlib.invalidate_caches()\n",
    "%load_ext autoreload\n",
    "%autoreload 2"
   ]
  },
  {
   "cell_type": "markdown",
   "metadata": {},
   "source": [
    "# Reading in data from UCD Server"
   ]
  },
  {
   "cell_type": "code",
   "execution_count": 2,
   "metadata": {},
   "outputs": [
    {
     "name": "stdout",
     "output_type": "stream",
     "text": [
      "/home/michaelmallon/work/spotify_playlist.sql\n"
     ]
    }
   ],
   "source": [
    "outf = Path.home() / \"work\" / \"spotify_playlist.sql\"\n",
    "print(outf)\n",
    "engine = sa.create_engine(f\"sqlite:///{outf}\", echo=False)"
   ]
  },
  {
   "cell_type": "code",
   "execution_count": 3,
   "metadata": {},
   "outputs": [
    {
     "name": "stdout",
     "output_type": "stream",
     "text": [
      "[(1000000,)]\n"
     ]
    }
   ],
   "source": [
    "with engine.connect() as con:\n",
    "    print(list(con.execute(\"select count(0) from playlists\")))"
   ]
  },
  {
   "cell_type": "markdown",
   "metadata": {},
   "source": [
    "#### Reading Playlists into a Dataframe"
   ]
  },
  {
   "cell_type": "code",
   "execution_count": 4,
   "metadata": {},
   "outputs": [],
   "source": [
    "playlists = pd.read_sql(\"SELECT * FROM playlists \", engine)"
   ]
  },
  {
   "cell_type": "code",
   "execution_count": 5,
   "metadata": {},
   "outputs": [
    {
     "data": {
      "text/html": [
       "<div>\n",
       "<style scoped>\n",
       "    .dataframe tbody tr th:only-of-type {\n",
       "        vertical-align: middle;\n",
       "    }\n",
       "\n",
       "    .dataframe tbody tr th {\n",
       "        vertical-align: top;\n",
       "    }\n",
       "\n",
       "    .dataframe thead th {\n",
       "        text-align: right;\n",
       "    }\n",
       "</style>\n",
       "<table border=\"1\" class=\"dataframe\">\n",
       "  <thead>\n",
       "    <tr style=\"text-align: right;\">\n",
       "      <th></th>\n",
       "      <th>collaborative</th>\n",
       "      <th>description</th>\n",
       "      <th>duration_ms</th>\n",
       "      <th>modified_at</th>\n",
       "      <th>name</th>\n",
       "      <th>num_albums</th>\n",
       "      <th>num_artists</th>\n",
       "      <th>num_edits</th>\n",
       "      <th>num_followers</th>\n",
       "      <th>num_tracks</th>\n",
       "      <th>pid</th>\n",
       "    </tr>\n",
       "  </thead>\n",
       "  <tbody>\n",
       "    <tr>\n",
       "      <th>485878</th>\n",
       "      <td>false</td>\n",
       "      <td>None</td>\n",
       "      <td>1755571</td>\n",
       "      <td>1509148800</td>\n",
       "      <td>jams</td>\n",
       "      <td>8</td>\n",
       "      <td>8</td>\n",
       "      <td>7</td>\n",
       "      <td>3</td>\n",
       "      <td>8</td>\n",
       "      <td>979878</td>\n",
       "    </tr>\n",
       "    <tr>\n",
       "      <th>311876</th>\n",
       "      <td>false</td>\n",
       "      <td>None</td>\n",
       "      <td>33448319</td>\n",
       "      <td>1507939200</td>\n",
       "      <td>Cumbias</td>\n",
       "      <td>114</td>\n",
       "      <td>62</td>\n",
       "      <td>27</td>\n",
       "      <td>4</td>\n",
       "      <td>168</td>\n",
       "      <td>74876</td>\n",
       "    </tr>\n",
       "    <tr>\n",
       "      <th>239772</th>\n",
       "      <td>false</td>\n",
       "      <td>None</td>\n",
       "      <td>41896312</td>\n",
       "      <td>1509408000</td>\n",
       "      <td>::INDIES::</td>\n",
       "      <td>132</td>\n",
       "      <td>100</td>\n",
       "      <td>105</td>\n",
       "      <td>1</td>\n",
       "      <td>171</td>\n",
       "      <td>587772</td>\n",
       "    </tr>\n",
       "    <tr>\n",
       "      <th>734444</th>\n",
       "      <td>false</td>\n",
       "      <td>None</td>\n",
       "      <td>1697078</td>\n",
       "      <td>1501286400</td>\n",
       "      <td>JULY</td>\n",
       "      <td>8</td>\n",
       "      <td>8</td>\n",
       "      <td>4</td>\n",
       "      <td>1</td>\n",
       "      <td>8</td>\n",
       "      <td>635444</td>\n",
       "    </tr>\n",
       "    <tr>\n",
       "      <th>88296</th>\n",
       "      <td>false</td>\n",
       "      <td>None</td>\n",
       "      <td>12151933</td>\n",
       "      <td>1362873600</td>\n",
       "      <td>Electro Swing</td>\n",
       "      <td>35</td>\n",
       "      <td>42</td>\n",
       "      <td>4</td>\n",
       "      <td>2</td>\n",
       "      <td>50</td>\n",
       "      <td>415296</td>\n",
       "    </tr>\n",
       "  </tbody>\n",
       "</table>\n",
       "</div>"
      ],
      "text/plain": [
       "       collaborative description  duration_ms  modified_at           name  \\\n",
       "485878         false        None      1755571   1509148800           jams   \n",
       "311876         false        None     33448319   1507939200        Cumbias   \n",
       "239772         false        None     41896312   1509408000     ::INDIES::   \n",
       "734444         false        None      1697078   1501286400           JULY   \n",
       "88296          false        None     12151933   1362873600  Electro Swing   \n",
       "\n",
       "        num_albums  num_artists  num_edits  num_followers  num_tracks     pid  \n",
       "485878           8            8          7              3           8  979878  \n",
       "311876         114           62         27              4         168   74876  \n",
       "239772         132          100        105              1         171  587772  \n",
       "734444           8            8          4              1           8  635444  \n",
       "88296           35           42          4              2          50  415296  "
      ]
     },
     "execution_count": 5,
     "metadata": {},
     "output_type": "execute_result"
    }
   ],
   "source": [
    "playlists.sample(5).head()"
   ]
  },
  {
   "cell_type": "code",
   "execution_count": 6,
   "metadata": {},
   "outputs": [
    {
     "data": {
      "text/plain": [
       "1000000"
      ]
     },
     "execution_count": 6,
     "metadata": {},
     "output_type": "execute_result"
    }
   ],
   "source": [
    "len(playlists)"
   ]
  },
  {
   "cell_type": "markdown",
   "metadata": {},
   "source": [
    "#### Saving to Pickle use for easier use later"
   ]
  },
  {
   "cell_type": "code",
   "execution_count": 7,
   "metadata": {},
   "outputs": [],
   "source": [
    "playlists.to_pickle('../Pickle_Files/playlists.pkl')"
   ]
  }
 ],
 "metadata": {
  "kernelspec": {
   "display_name": "Python 3",
   "language": "python",
   "name": "python3"
  },
  "language_info": {
   "codemirror_mode": {
    "name": "ipython",
    "version": 3
   },
   "file_extension": ".py",
   "mimetype": "text/x-python",
   "name": "python",
   "nbconvert_exporter": "python",
   "pygments_lexer": "ipython3",
   "version": "3.7.2"
  }
 },
 "nbformat": 4,
 "nbformat_minor": 2
}
