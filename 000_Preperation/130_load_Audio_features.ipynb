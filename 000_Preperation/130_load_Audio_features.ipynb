{
 "cells": [
  {
   "cell_type": "code",
   "execution_count": 1,
   "metadata": {},
   "outputs": [],
   "source": [
    "import pandas as pd\n",
    "import sqlalchemy as sa\n",
    "from sqlalchemy.dialects.postgresql import JSON, JSONB\n",
    "from sqlalchemy.ext.declarative import declarative_base\n",
    "from sqlalchemy.orm import sessionmaker\n",
    "import json\n",
    "import datetime\n",
    "from dateutil.parser import parser\n",
    "import os\n",
    "from pprint import pprint\n",
    "from pathlib import Path\n",
    "import glob\n",
    "#from odo import odo\n",
    "import importlib\n",
    "import itertools\n",
    "import numpy as np\n",
    "\n",
    "#importlib.invalidate_caches()\n",
    "%load_ext autoreload\n",
    "%autoreload 2"
   ]
  },
  {
   "cell_type": "markdown",
   "metadata": {},
   "source": [
    "# Reading in data from UCD Server"
   ]
  },
  {
   "cell_type": "code",
   "execution_count": 2,
   "metadata": {},
   "outputs": [
    {
     "name": "stdout",
     "output_type": "stream",
     "text": [
      "/home/michaelmallon/work/spotify_playlist.sql\n"
     ]
    }
   ],
   "source": [
    "outf = Path.home() / \"work\" / \"spotify_playlist.sql\"\n",
    "print(outf)\n",
    "engine = sa.create_engine(f\"sqlite:///{outf}\", echo=False)"
   ]
  },
  {
   "cell_type": "code",
   "execution_count": 3,
   "metadata": {
    "scrolled": true
   },
   "outputs": [
    {
     "name": "stdout",
     "output_type": "stream",
     "text": [
      "[(2262133,)]\n"
     ]
    }
   ],
   "source": [
    "with engine.connect() as con:\n",
    "    print(list(con.execute(\"select count(0) from audio_features\")))"
   ]
  },
  {
   "cell_type": "markdown",
   "metadata": {},
   "source": [
    "#### Reading audio_features into a Dataframe"
   ]
  },
  {
   "cell_type": "code",
   "execution_count": 4,
   "metadata": {},
   "outputs": [],
   "source": [
    "audio_features = pd.read_sql(\"SELECT * FROM audio_features \", engine)"
   ]
  },
  {
   "cell_type": "code",
   "execution_count": 5,
   "metadata": {},
   "outputs": [
    {
     "data": {
      "text/html": [
       "<div>\n",
       "<style scoped>\n",
       "    .dataframe tbody tr th:only-of-type {\n",
       "        vertical-align: middle;\n",
       "    }\n",
       "\n",
       "    .dataframe tbody tr th {\n",
       "        vertical-align: top;\n",
       "    }\n",
       "\n",
       "    .dataframe thead th {\n",
       "        text-align: right;\n",
       "    }\n",
       "</style>\n",
       "<table border=\"1\" class=\"dataframe\">\n",
       "  <thead>\n",
       "    <tr style=\"text-align: right;\">\n",
       "      <th></th>\n",
       "      <th>acousticness</th>\n",
       "      <th>danceability</th>\n",
       "      <th>energy</th>\n",
       "      <th>id</th>\n",
       "      <th>instrumentalness</th>\n",
       "      <th>key</th>\n",
       "      <th>liveness</th>\n",
       "      <th>loudness</th>\n",
       "      <th>mode</th>\n",
       "      <th>sp_id</th>\n",
       "      <th>speechiness</th>\n",
       "      <th>tempo</th>\n",
       "      <th>time_signature</th>\n",
       "      <th>track_uri</th>\n",
       "      <th>valence</th>\n",
       "    </tr>\n",
       "  </thead>\n",
       "  <tbody>\n",
       "    <tr>\n",
       "      <th>1812085</th>\n",
       "      <td>0.939000</td>\n",
       "      <td>0.550</td>\n",
       "      <td>0.306</td>\n",
       "      <td>1896522</td>\n",
       "      <td>0.905000</td>\n",
       "      <td>7</td>\n",
       "      <td>0.0973</td>\n",
       "      <td>-13.807</td>\n",
       "      <td>1</td>\n",
       "      <td>3Uq1GGNQKi5Lat9bVnYFdc</td>\n",
       "      <td>0.0850</td>\n",
       "      <td>129.541</td>\n",
       "      <td>5</td>\n",
       "      <td>spotify:track:3Uq1GGNQKi5Lat9bVnYFdc</td>\n",
       "      <td>0.0955</td>\n",
       "    </tr>\n",
       "    <tr>\n",
       "      <th>867990</th>\n",
       "      <td>0.944000</td>\n",
       "      <td>0.615</td>\n",
       "      <td>0.201</td>\n",
       "      <td>874561</td>\n",
       "      <td>0.000009</td>\n",
       "      <td>9</td>\n",
       "      <td>0.0932</td>\n",
       "      <td>-12.199</td>\n",
       "      <td>0</td>\n",
       "      <td>4sR077e5uh1pxD0tJb8cgT</td>\n",
       "      <td>0.0292</td>\n",
       "      <td>103.502</td>\n",
       "      <td>3</td>\n",
       "      <td>spotify:track:4sR077e5uh1pxD0tJb8cgT</td>\n",
       "      <td>0.3520</td>\n",
       "    </tr>\n",
       "    <tr>\n",
       "      <th>2046109</th>\n",
       "      <td>0.978000</td>\n",
       "      <td>0.264</td>\n",
       "      <td>0.125</td>\n",
       "      <td>2130546</td>\n",
       "      <td>0.929000</td>\n",
       "      <td>2</td>\n",
       "      <td>0.1060</td>\n",
       "      <td>-15.871</td>\n",
       "      <td>0</td>\n",
       "      <td>472O4by99teTZQ0JNmRnpD</td>\n",
       "      <td>0.0365</td>\n",
       "      <td>118.007</td>\n",
       "      <td>4</td>\n",
       "      <td>spotify:track:472O4by99teTZQ0JNmRnpD</td>\n",
       "      <td>0.2250</td>\n",
       "    </tr>\n",
       "    <tr>\n",
       "      <th>675970</th>\n",
       "      <td>0.734000</td>\n",
       "      <td>0.214</td>\n",
       "      <td>0.351</td>\n",
       "      <td>680943</td>\n",
       "      <td>0.001640</td>\n",
       "      <td>4</td>\n",
       "      <td>0.1440</td>\n",
       "      <td>-12.042</td>\n",
       "      <td>1</td>\n",
       "      <td>7cWLis2k8fQNDbgFKqFu9M</td>\n",
       "      <td>0.0302</td>\n",
       "      <td>94.566</td>\n",
       "      <td>4</td>\n",
       "      <td>spotify:track:7cWLis2k8fQNDbgFKqFu9M</td>\n",
       "      <td>0.1560</td>\n",
       "    </tr>\n",
       "    <tr>\n",
       "      <th>2112274</th>\n",
       "      <td>0.000119</td>\n",
       "      <td>0.780</td>\n",
       "      <td>0.906</td>\n",
       "      <td>2196711</td>\n",
       "      <td>0.900000</td>\n",
       "      <td>7</td>\n",
       "      <td>0.1010</td>\n",
       "      <td>-8.141</td>\n",
       "      <td>1</td>\n",
       "      <td>2xccyR7kOZkATYDr8O3MKS</td>\n",
       "      <td>0.0806</td>\n",
       "      <td>124.982</td>\n",
       "      <td>4</td>\n",
       "      <td>spotify:track:2xccyR7kOZkATYDr8O3MKS</td>\n",
       "      <td>0.4490</td>\n",
       "    </tr>\n",
       "  </tbody>\n",
       "</table>\n",
       "</div>"
      ],
      "text/plain": [
       "         acousticness  danceability  energy       id  instrumentalness key  \\\n",
       "1812085      0.939000         0.550   0.306  1896522          0.905000   7   \n",
       "867990       0.944000         0.615   0.201   874561          0.000009   9   \n",
       "2046109      0.978000         0.264   0.125  2130546          0.929000   2   \n",
       "675970       0.734000         0.214   0.351   680943          0.001640   4   \n",
       "2112274      0.000119         0.780   0.906  2196711          0.900000   7   \n",
       "\n",
       "         liveness  loudness mode                   sp_id  speechiness  \\\n",
       "1812085    0.0973   -13.807    1  3Uq1GGNQKi5Lat9bVnYFdc       0.0850   \n",
       "867990     0.0932   -12.199    0  4sR077e5uh1pxD0tJb8cgT       0.0292   \n",
       "2046109    0.1060   -15.871    0  472O4by99teTZQ0JNmRnpD       0.0365   \n",
       "675970     0.1440   -12.042    1  7cWLis2k8fQNDbgFKqFu9M       0.0302   \n",
       "2112274    0.1010    -8.141    1  2xccyR7kOZkATYDr8O3MKS       0.0806   \n",
       "\n",
       "           tempo time_signature                             track_uri  valence  \n",
       "1812085  129.541              5  spotify:track:3Uq1GGNQKi5Lat9bVnYFdc   0.0955  \n",
       "867990   103.502              3  spotify:track:4sR077e5uh1pxD0tJb8cgT   0.3520  \n",
       "2046109  118.007              4  spotify:track:472O4by99teTZQ0JNmRnpD   0.2250  \n",
       "675970    94.566              4  spotify:track:7cWLis2k8fQNDbgFKqFu9M   0.1560  \n",
       "2112274  124.982              4  spotify:track:2xccyR7kOZkATYDr8O3MKS   0.4490  "
      ]
     },
     "execution_count": 5,
     "metadata": {},
     "output_type": "execute_result"
    }
   ],
   "source": [
    "audio_features.sample(5).head()"
   ]
  },
  {
   "cell_type": "code",
   "execution_count": 6,
   "metadata": {},
   "outputs": [
    {
     "data": {
      "text/plain": [
       "2262133"
      ]
     },
     "execution_count": 6,
     "metadata": {},
     "output_type": "execute_result"
    }
   ],
   "source": [
    "len(audio_features)"
   ]
  },
  {
   "cell_type": "markdown",
   "metadata": {},
   "source": [
    "#### Saving to Pickle use for easier use later"
   ]
  },
  {
   "cell_type": "code",
   "execution_count": 7,
   "metadata": {},
   "outputs": [],
   "source": [
    "audio_features.to_pickle('../Pickle_Files/audio_features.pkl')"
   ]
  }
 ],
 "metadata": {
  "kernelspec": {
   "display_name": "Python 3",
   "language": "python",
   "name": "python3"
  },
  "language_info": {
   "codemirror_mode": {
    "name": "ipython",
    "version": 3
   },
   "file_extension": ".py",
   "mimetype": "text/x-python",
   "name": "python",
   "nbconvert_exporter": "python",
   "pygments_lexer": "ipython3",
   "version": "3.7.2"
  }
 },
 "nbformat": 4,
 "nbformat_minor": 2
}
