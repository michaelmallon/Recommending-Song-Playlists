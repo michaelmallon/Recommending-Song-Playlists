{
 "cells": [
  {
   "cell_type": "code",
   "execution_count": 1,
   "metadata": {},
   "outputs": [],
   "source": [
    "import pandas as pd\n",
    "import sqlalchemy as sa\n",
    "from sqlalchemy.dialects.postgresql import JSON, JSONB\n",
    "from sqlalchemy.ext.declarative import declarative_base\n",
    "from sqlalchemy.orm import sessionmaker\n",
    "import json\n",
    "import datetime\n",
    "from dateutil.parser import parser\n",
    "import os\n",
    "from pprint import pprint\n",
    "from pathlib import Path\n",
    "import glob\n",
    "#from odo import odo\n",
    "import importlib\n",
    "import itertools\n",
    "import numpy as np\n",
    "\n",
    "#importlib.invalidate_caches()\n",
    "%load_ext autoreload\n",
    "%autoreload 2"
   ]
  },
  {
   "cell_type": "markdown",
   "metadata": {},
   "source": [
    "# Reading in data from UCD Server"
   ]
  },
  {
   "cell_type": "code",
   "execution_count": 2,
   "metadata": {},
   "outputs": [
    {
     "name": "stdout",
     "output_type": "stream",
     "text": [
      "/home/michaelmallon/work/spotify_playlist.sql\n"
     ]
    }
   ],
   "source": [
    "outf = Path.home() / \"work\" / \"spotify_playlist.sql\"\n",
    "print(outf)\n",
    "engine = sa.create_engine(f\"sqlite:///{outf}\", echo=False)"
   ]
  },
  {
   "cell_type": "code",
   "execution_count": 3,
   "metadata": {},
   "outputs": [
    {
     "name": "stdout",
     "output_type": "stream",
     "text": [
      "[(2262292,)]\n"
     ]
    }
   ],
   "source": [
    "with engine.connect() as con:\n",
    "    print(list(con.execute(\"select count(0) from tracks\")))"
   ]
  },
  {
   "cell_type": "markdown",
   "metadata": {},
   "source": [
    "#### Reading Tracks into a Dataframe"
   ]
  },
  {
   "cell_type": "code",
   "execution_count": 4,
   "metadata": {},
   "outputs": [],
   "source": [
    "tracks = pd.read_sql(\"SELECT * FROM tracks \", engine)"
   ]
  },
  {
   "cell_type": "code",
   "execution_count": 5,
   "metadata": {},
   "outputs": [
    {
     "data": {
      "text/html": [
       "<div>\n",
       "<style scoped>\n",
       "    .dataframe tbody tr th:only-of-type {\n",
       "        vertical-align: middle;\n",
       "    }\n",
       "\n",
       "    .dataframe tbody tr th {\n",
       "        vertical-align: top;\n",
       "    }\n",
       "\n",
       "    .dataframe thead th {\n",
       "        text-align: right;\n",
       "    }\n",
       "</style>\n",
       "<table border=\"1\" class=\"dataframe\">\n",
       "  <thead>\n",
       "    <tr style=\"text-align: right;\">\n",
       "      <th></th>\n",
       "      <th>album_name</th>\n",
       "      <th>album_uri</th>\n",
       "      <th>artist_name</th>\n",
       "      <th>artist_uri</th>\n",
       "      <th>duration_ms</th>\n",
       "      <th>pos</th>\n",
       "      <th>track_name</th>\n",
       "      <th>track_uri</th>\n",
       "    </tr>\n",
       "  </thead>\n",
       "  <tbody>\n",
       "    <tr>\n",
       "      <th>997637</th>\n",
       "      <td>Tales of a Drug Lord</td>\n",
       "      <td>spotify:album:5uw8BFagaEMs8hxArsmD20</td>\n",
       "      <td>Stitches</td>\n",
       "      <td>spotify:artist:6e2u9HgI4qz8Dzr7WBM3o1</td>\n",
       "      <td>215405</td>\n",
       "      <td>None</td>\n",
       "      <td>Bitch I'm Cooking (feat. Kevin Gates)</td>\n",
       "      <td>spotify:track:5yUGMdAMFgrhpSumVsheoK</td>\n",
       "    </tr>\n",
       "    <tr>\n",
       "      <th>1310146</th>\n",
       "      <td>Auzaar (Original Motion Picture Soundtrack)</td>\n",
       "      <td>spotify:album:2VVsJfBz4ZNJD4hmn9SF8R</td>\n",
       "      <td>Shankar Mahadevan</td>\n",
       "      <td>spotify:artist:1SJOL9HJ08YOn92lFcYf8a</td>\n",
       "      <td>309946</td>\n",
       "      <td>None</td>\n",
       "      <td>I Love You, I Love You (From \"Auzaar\")</td>\n",
       "      <td>spotify:track:5bN1Ky8E5TMOZ9sRGNViu8</td>\n",
       "    </tr>\n",
       "    <tr>\n",
       "      <th>42902</th>\n",
       "      <td>Even Better Than The Real Thing Vol. 1</td>\n",
       "      <td>spotify:album:5RtX1hFuKAsVba9pjHOiee</td>\n",
       "      <td>Mickey Harte</td>\n",
       "      <td>spotify:artist:0Krn0mh121hwHj2y1zN3XM</td>\n",
       "      <td>274946</td>\n",
       "      <td>None</td>\n",
       "      <td>Crazy in Love</td>\n",
       "      <td>spotify:track:3bK6ASUak53B7ZVxCTCg9D</td>\n",
       "    </tr>\n",
       "    <tr>\n",
       "      <th>1248319</th>\n",
       "      <td>A State Of Trance Episode 722</td>\n",
       "      <td>spotify:album:56hl3qKQIhnfnQdUomeuoB</td>\n",
       "      <td>Ben Gold</td>\n",
       "      <td>spotify:artist:4DXcK8M3bJkCFfhHIkudyL</td>\n",
       "      <td>202460</td>\n",
       "      <td>None</td>\n",
       "      <td>Era Festivus (Electronic Family 2015 Anthem) [...</td>\n",
       "      <td>spotify:track:5ydCYeYJPdmOiceAx1uLPn</td>\n",
       "    </tr>\n",
       "    <tr>\n",
       "      <th>1938413</th>\n",
       "      <td>Sceptre Hole</td>\n",
       "      <td>spotify:album:5H7qwIXuU12pCtdRqmtdun</td>\n",
       "      <td>Rat Columns</td>\n",
       "      <td>spotify:artist:0MRHpgdSUMHpvQOEvD0yMo</td>\n",
       "      <td>132374</td>\n",
       "      <td>None</td>\n",
       "      <td>Ashes of a Rose</td>\n",
       "      <td>spotify:track:2MbEIWLJDAaZl7h66cWDG1</td>\n",
       "    </tr>\n",
       "  </tbody>\n",
       "</table>\n",
       "</div>"
      ],
      "text/plain": [
       "                                          album_name  \\\n",
       "997637                          Tales of a Drug Lord   \n",
       "1310146  Auzaar (Original Motion Picture Soundtrack)   \n",
       "42902         Even Better Than The Real Thing Vol. 1   \n",
       "1248319                A State Of Trance Episode 722   \n",
       "1938413                                 Sceptre Hole   \n",
       "\n",
       "                                    album_uri        artist_name  \\\n",
       "997637   spotify:album:5uw8BFagaEMs8hxArsmD20           Stitches   \n",
       "1310146  spotify:album:2VVsJfBz4ZNJD4hmn9SF8R  Shankar Mahadevan   \n",
       "42902    spotify:album:5RtX1hFuKAsVba9pjHOiee       Mickey Harte   \n",
       "1248319  spotify:album:56hl3qKQIhnfnQdUomeuoB           Ben Gold   \n",
       "1938413  spotify:album:5H7qwIXuU12pCtdRqmtdun        Rat Columns   \n",
       "\n",
       "                                    artist_uri  duration_ms   pos  \\\n",
       "997637   spotify:artist:6e2u9HgI4qz8Dzr7WBM3o1       215405  None   \n",
       "1310146  spotify:artist:1SJOL9HJ08YOn92lFcYf8a       309946  None   \n",
       "42902    spotify:artist:0Krn0mh121hwHj2y1zN3XM       274946  None   \n",
       "1248319  spotify:artist:4DXcK8M3bJkCFfhHIkudyL       202460  None   \n",
       "1938413  spotify:artist:0MRHpgdSUMHpvQOEvD0yMo       132374  None   \n",
       "\n",
       "                                                track_name  \\\n",
       "997637               Bitch I'm Cooking (feat. Kevin Gates)   \n",
       "1310146             I Love You, I Love You (From \"Auzaar\")   \n",
       "42902                                        Crazy in Love   \n",
       "1248319  Era Festivus (Electronic Family 2015 Anthem) [...   \n",
       "1938413                                    Ashes of a Rose   \n",
       "\n",
       "                                    track_uri  \n",
       "997637   spotify:track:5yUGMdAMFgrhpSumVsheoK  \n",
       "1310146  spotify:track:5bN1Ky8E5TMOZ9sRGNViu8  \n",
       "42902    spotify:track:3bK6ASUak53B7ZVxCTCg9D  \n",
       "1248319  spotify:track:5ydCYeYJPdmOiceAx1uLPn  \n",
       "1938413  spotify:track:2MbEIWLJDAaZl7h66cWDG1  "
      ]
     },
     "execution_count": 5,
     "metadata": {},
     "output_type": "execute_result"
    }
   ],
   "source": [
    "tracks.sample(5).head()"
   ]
  },
  {
   "cell_type": "code",
   "execution_count": 7,
   "metadata": {},
   "outputs": [
    {
     "data": {
      "text/plain": [
       "2262292"
      ]
     },
     "execution_count": 7,
     "metadata": {},
     "output_type": "execute_result"
    }
   ],
   "source": [
    "len(tracks)"
   ]
  },
  {
   "cell_type": "markdown",
   "metadata": {},
   "source": [
    "#### Saving to Pickle use for easier use later"
   ]
  },
  {
   "cell_type": "code",
   "execution_count": 8,
   "metadata": {},
   "outputs": [],
   "source": [
    "tracks.to_pickle('../Pickle_Files/tracks.pkl')"
   ]
  }
 ],
 "metadata": {
  "kernelspec": {
   "display_name": "Python 3",
   "language": "python",
   "name": "python3"
  },
  "language_info": {
   "codemirror_mode": {
    "name": "ipython",
    "version": 3
   },
   "file_extension": ".py",
   "mimetype": "text/x-python",
   "name": "python",
   "nbconvert_exporter": "python",
   "pygments_lexer": "ipython3",
   "version": "3.7.2"
  }
 },
 "nbformat": 4,
 "nbformat_minor": 2
}
