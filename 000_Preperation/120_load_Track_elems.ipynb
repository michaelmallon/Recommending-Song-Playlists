{
 "cells": [
  {
   "cell_type": "code",
   "execution_count": 1,
   "metadata": {},
   "outputs": [],
   "source": [
    "import pandas as pd\n",
    "import sqlalchemy as sa\n",
    "from sqlalchemy.dialects.postgresql import JSON, JSONB\n",
    "from sqlalchemy.ext.declarative import declarative_base\n",
    "from sqlalchemy.orm import sessionmaker\n",
    "import json\n",
    "import datetime\n",
    "from dateutil.parser import parser\n",
    "import os\n",
    "from pprint import pprint\n",
    "from pathlib import Path\n",
    "import glob\n",
    "#from odo import odo\n",
    "import importlib\n",
    "import itertools\n",
    "import numpy as np\n",
    "\n",
    "#importlib.invalidate_caches()\n",
    "%load_ext autoreload\n",
    "%autoreload 2"
   ]
  },
  {
   "cell_type": "markdown",
   "metadata": {},
   "source": [
    "# Reading in data from UCD Server"
   ]
  },
  {
   "cell_type": "code",
   "execution_count": 2,
   "metadata": {},
   "outputs": [
    {
     "name": "stdout",
     "output_type": "stream",
     "text": [
      "/home/michaelmallon/work/spotify_playlist.sql\n"
     ]
    }
   ],
   "source": [
    "outf = Path.home() / \"work\" / \"spotify_playlist.sql\"\n",
    "print(outf)\n",
    "engine = sa.create_engine(f\"sqlite:///{outf}\", echo=False)"
   ]
  },
  {
   "cell_type": "code",
   "execution_count": 3,
   "metadata": {},
   "outputs": [
    {
     "name": "stdout",
     "output_type": "stream",
     "text": [
      "[(66346428,)]\n"
     ]
    }
   ],
   "source": [
    "with engine.connect() as con:\n",
    "    print(list(con.execute(\"select count(0) from track_elems\")))"
   ]
  },
  {
   "cell_type": "markdown",
   "metadata": {},
   "source": [
    "#### Reading track_elems into a Dataframe"
   ]
  },
  {
   "cell_type": "code",
   "execution_count": 4,
   "metadata": {},
   "outputs": [],
   "source": [
    "track_elems = pd.read_sql(\"SELECT * FROM track_elems \", engine)"
   ]
  },
  {
   "cell_type": "code",
   "execution_count": 5,
   "metadata": {},
   "outputs": [
    {
     "data": {
      "text/html": [
       "<div>\n",
       "<style scoped>\n",
       "    .dataframe tbody tr th:only-of-type {\n",
       "        vertical-align: middle;\n",
       "    }\n",
       "\n",
       "    .dataframe tbody tr th {\n",
       "        vertical-align: top;\n",
       "    }\n",
       "\n",
       "    .dataframe thead th {\n",
       "        text-align: right;\n",
       "    }\n",
       "</style>\n",
       "<table border=\"1\" class=\"dataframe\">\n",
       "  <thead>\n",
       "    <tr style=\"text-align: right;\">\n",
       "      <th></th>\n",
       "      <th>pid</th>\n",
       "      <th>pos</th>\n",
       "      <th>track_uri</th>\n",
       "    </tr>\n",
       "  </thead>\n",
       "  <tbody>\n",
       "    <tr>\n",
       "      <th>63304202</th>\n",
       "      <td>830235</td>\n",
       "      <td>41</td>\n",
       "      <td>spotify:track:33CdK2WiQfodCIHiXfgoLJ</td>\n",
       "    </tr>\n",
       "    <tr>\n",
       "      <th>29992390</th>\n",
       "      <td>193186</td>\n",
       "      <td>47</td>\n",
       "      <td>spotify:track:0MKqeOVdZcUFGJvWpGCKbG</td>\n",
       "    </tr>\n",
       "    <tr>\n",
       "      <th>13458213</th>\n",
       "      <td>546821</td>\n",
       "      <td>103</td>\n",
       "      <td>spotify:track:49AZogIv5B5kQuJl7Kp4lf</td>\n",
       "    </tr>\n",
       "    <tr>\n",
       "      <th>55434790</th>\n",
       "      <td>304535</td>\n",
       "      <td>48</td>\n",
       "      <td>spotify:track:5VYa7MD8Yes4YzTY3YuCLt</td>\n",
       "    </tr>\n",
       "    <tr>\n",
       "      <th>55015056</th>\n",
       "      <td>995219</td>\n",
       "      <td>23</td>\n",
       "      <td>spotify:track:2arTR9Nqj403jEcI7v2lzU</td>\n",
       "    </tr>\n",
       "  </tbody>\n",
       "</table>\n",
       "</div>"
      ],
      "text/plain": [
       "             pid  pos                             track_uri\n",
       "63304202  830235   41  spotify:track:33CdK2WiQfodCIHiXfgoLJ\n",
       "29992390  193186   47  spotify:track:0MKqeOVdZcUFGJvWpGCKbG\n",
       "13458213  546821  103  spotify:track:49AZogIv5B5kQuJl7Kp4lf\n",
       "55434790  304535   48  spotify:track:5VYa7MD8Yes4YzTY3YuCLt\n",
       "55015056  995219   23  spotify:track:2arTR9Nqj403jEcI7v2lzU"
      ]
     },
     "execution_count": 5,
     "metadata": {},
     "output_type": "execute_result"
    }
   ],
   "source": [
    "track_elems.sample(5).head()"
   ]
  },
  {
   "cell_type": "code",
   "execution_count": 6,
   "metadata": {},
   "outputs": [
    {
     "data": {
      "text/plain": [
       "66346428"
      ]
     },
     "execution_count": 6,
     "metadata": {},
     "output_type": "execute_result"
    }
   ],
   "source": [
    "len(track_elems)"
   ]
  },
  {
   "cell_type": "markdown",
   "metadata": {},
   "source": [
    "#### Saving to Pickle use for easier use later"
   ]
  },
  {
   "cell_type": "code",
   "execution_count": 7,
   "metadata": {},
   "outputs": [],
   "source": [
    "track_elems.to_pickle('../Pickle_Files/track_elems.pkl')"
   ]
  }
 ],
 "metadata": {
  "kernelspec": {
   "display_name": "Python 3",
   "language": "python",
   "name": "python3"
  },
  "language_info": {
   "codemirror_mode": {
    "name": "ipython",
    "version": 3
   },
   "file_extension": ".py",
   "mimetype": "text/x-python",
   "name": "python",
   "nbconvert_exporter": "python",
   "pygments_lexer": "ipython3",
   "version": "3.7.2"
  }
 },
 "nbformat": 4,
 "nbformat_minor": 2
}
